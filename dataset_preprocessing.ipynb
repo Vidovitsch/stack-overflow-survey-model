{
 "cells": [
  {
   "cell_type": "markdown",
   "metadata": {},
   "source": [
    "# Preperation of the data\n",
    "The survey results of the Stack Overflow survey of 2018 will be used. The results of the survey mainly consists of categorical answers on questions like: 'Do you write code as a hobby?' or 'How many times do you exercise each week?'. Before a Machine Learning classifier can be used, all the values with type 'object' (string) must be mapped to a numerical representation of that object. On top of that, the survey will be cleared of 'unimportant' columns that have no correlation with the target 'JobSatisfaction' and rows containing NaN values in the target column 'JobSatisfaction' will be dropped."
   ]
  },
  {
   "cell_type": "code",
   "execution_count": 1,
   "metadata": {},
   "outputs": [],
   "source": [
    "import pandas as pd\n",
    "import numpy as np\n",
    "\n",
    "from sklearn.preprocessing import MultiLabelBinarizer\n",
    "from scipy import stats"
   ]
  },
  {
   "cell_type": "markdown",
   "metadata": {},
   "source": [
    "### 1. Import the original Stack Overflow 2018 survey results"
   ]
  },
  {
   "cell_type": "code",
   "execution_count": 2,
   "metadata": {
    "scrolled": true
   },
   "outputs": [
    {
     "name": "stdout",
     "output_type": "stream",
     "text": [
      "Rows: 98855, Columns: 129\n"
     ]
    },
    {
     "data": {
      "text/html": [
       "<div>\n",
       "<style scoped>\n",
       "    .dataframe tbody tr th:only-of-type {\n",
       "        vertical-align: middle;\n",
       "    }\n",
       "\n",
       "    .dataframe tbody tr th {\n",
       "        vertical-align: top;\n",
       "    }\n",
       "\n",
       "    .dataframe thead th {\n",
       "        text-align: right;\n",
       "    }\n",
       "</style>\n",
       "<table border=\"1\" class=\"dataframe\">\n",
       "  <thead>\n",
       "    <tr style=\"text-align: right;\">\n",
       "      <th></th>\n",
       "      <th>Respondent</th>\n",
       "      <th>Hobby</th>\n",
       "      <th>OpenSource</th>\n",
       "      <th>Country</th>\n",
       "      <th>Student</th>\n",
       "      <th>Employment</th>\n",
       "      <th>FormalEducation</th>\n",
       "      <th>UndergradMajor</th>\n",
       "      <th>CompanySize</th>\n",
       "      <th>DevType</th>\n",
       "      <th>...</th>\n",
       "      <th>Exercise</th>\n",
       "      <th>Gender</th>\n",
       "      <th>SexualOrientation</th>\n",
       "      <th>EducationParents</th>\n",
       "      <th>RaceEthnicity</th>\n",
       "      <th>Age</th>\n",
       "      <th>Dependents</th>\n",
       "      <th>MilitaryUS</th>\n",
       "      <th>SurveyTooLong</th>\n",
       "      <th>SurveyEasy</th>\n",
       "    </tr>\n",
       "  </thead>\n",
       "  <tbody>\n",
       "    <tr>\n",
       "      <th>0</th>\n",
       "      <td>1</td>\n",
       "      <td>Yes</td>\n",
       "      <td>No</td>\n",
       "      <td>Kenya</td>\n",
       "      <td>No</td>\n",
       "      <td>Employed part-time</td>\n",
       "      <td>Bachelor’s degree (BA, BS, B.Eng., etc.)</td>\n",
       "      <td>Mathematics or statistics</td>\n",
       "      <td>20 to 99 employees</td>\n",
       "      <td>Full-stack developer</td>\n",
       "      <td>...</td>\n",
       "      <td>3 - 4 times per week</td>\n",
       "      <td>Male</td>\n",
       "      <td>Straight or heterosexual</td>\n",
       "      <td>Bachelor’s degree (BA, BS, B.Eng., etc.)</td>\n",
       "      <td>Black or of African descent</td>\n",
       "      <td>25 - 34 years old</td>\n",
       "      <td>Yes</td>\n",
       "      <td>NaN</td>\n",
       "      <td>The survey was an appropriate length</td>\n",
       "      <td>Very easy</td>\n",
       "    </tr>\n",
       "    <tr>\n",
       "      <th>1</th>\n",
       "      <td>3</td>\n",
       "      <td>Yes</td>\n",
       "      <td>Yes</td>\n",
       "      <td>United Kingdom</td>\n",
       "      <td>No</td>\n",
       "      <td>Employed full-time</td>\n",
       "      <td>Bachelor’s degree (BA, BS, B.Eng., etc.)</td>\n",
       "      <td>A natural science (ex. biology, chemistry, phy...</td>\n",
       "      <td>10,000 or more employees</td>\n",
       "      <td>Database administrator;DevOps specialist;Full-...</td>\n",
       "      <td>...</td>\n",
       "      <td>Daily or almost every day</td>\n",
       "      <td>Male</td>\n",
       "      <td>Straight or heterosexual</td>\n",
       "      <td>Bachelor’s degree (BA, BS, B.Eng., etc.)</td>\n",
       "      <td>White or of European descent</td>\n",
       "      <td>35 - 44 years old</td>\n",
       "      <td>Yes</td>\n",
       "      <td>NaN</td>\n",
       "      <td>The survey was an appropriate length</td>\n",
       "      <td>Somewhat easy</td>\n",
       "    </tr>\n",
       "    <tr>\n",
       "      <th>2</th>\n",
       "      <td>4</td>\n",
       "      <td>Yes</td>\n",
       "      <td>Yes</td>\n",
       "      <td>United States</td>\n",
       "      <td>No</td>\n",
       "      <td>Employed full-time</td>\n",
       "      <td>Associate degree</td>\n",
       "      <td>Computer science, computer engineering, or sof...</td>\n",
       "      <td>20 to 99 employees</td>\n",
       "      <td>Engineering manager;Full-stack developer</td>\n",
       "      <td>...</td>\n",
       "      <td>NaN</td>\n",
       "      <td>NaN</td>\n",
       "      <td>NaN</td>\n",
       "      <td>NaN</td>\n",
       "      <td>NaN</td>\n",
       "      <td>NaN</td>\n",
       "      <td>NaN</td>\n",
       "      <td>NaN</td>\n",
       "      <td>NaN</td>\n",
       "      <td>NaN</td>\n",
       "    </tr>\n",
       "  </tbody>\n",
       "</table>\n",
       "<p>3 rows × 129 columns</p>\n",
       "</div>"
      ],
      "text/plain": [
       "   Respondent Hobby OpenSource         Country Student          Employment  \\\n",
       "0           1   Yes         No           Kenya      No  Employed part-time   \n",
       "1           3   Yes        Yes  United Kingdom      No  Employed full-time   \n",
       "2           4   Yes        Yes   United States      No  Employed full-time   \n",
       "\n",
       "                            FormalEducation  \\\n",
       "0  Bachelor’s degree (BA, BS, B.Eng., etc.)   \n",
       "1  Bachelor’s degree (BA, BS, B.Eng., etc.)   \n",
       "2                          Associate degree   \n",
       "\n",
       "                                      UndergradMajor  \\\n",
       "0                          Mathematics or statistics   \n",
       "1  A natural science (ex. biology, chemistry, phy...   \n",
       "2  Computer science, computer engineering, or sof...   \n",
       "\n",
       "                CompanySize  \\\n",
       "0        20 to 99 employees   \n",
       "1  10,000 or more employees   \n",
       "2        20 to 99 employees   \n",
       "\n",
       "                                             DevType      ...        \\\n",
       "0                               Full-stack developer      ...         \n",
       "1  Database administrator;DevOps specialist;Full-...      ...         \n",
       "2           Engineering manager;Full-stack developer      ...         \n",
       "\n",
       "                    Exercise Gender         SexualOrientation  \\\n",
       "0       3 - 4 times per week   Male  Straight or heterosexual   \n",
       "1  Daily or almost every day   Male  Straight or heterosexual   \n",
       "2                        NaN    NaN                       NaN   \n",
       "\n",
       "                           EducationParents                 RaceEthnicity  \\\n",
       "0  Bachelor’s degree (BA, BS, B.Eng., etc.)   Black or of African descent   \n",
       "1  Bachelor’s degree (BA, BS, B.Eng., etc.)  White or of European descent   \n",
       "2                                       NaN                           NaN   \n",
       "\n",
       "                 Age Dependents  MilitaryUS  \\\n",
       "0  25 - 34 years old        Yes         NaN   \n",
       "1  35 - 44 years old        Yes         NaN   \n",
       "2                NaN        NaN         NaN   \n",
       "\n",
       "                          SurveyTooLong     SurveyEasy  \n",
       "0  The survey was an appropriate length      Very easy  \n",
       "1  The survey was an appropriate length  Somewhat easy  \n",
       "2                                   NaN            NaN  \n",
       "\n",
       "[3 rows x 129 columns]"
      ]
     },
     "execution_count": 2,
     "metadata": {},
     "output_type": "execute_result"
    }
   ],
   "source": [
    "# Import original dataset\n",
    "so_survey_original = pd.read_csv('./dataset/2018 Stack Overflow Survey Results.csv', low_memory=False)\n",
    "\n",
    "print('Rows: %i, Columns: %i' % so_survey_original.shape)\n",
    "so_survey_original.head(3)"
   ]
  },
  {
   "cell_type": "markdown",
   "metadata": {},
   "source": [
    "The original data frame will be (deep) copied to a new data frame on which the preperation will take place. After each preperation step the original data frame can be used to make 'before' and 'after' comparisons with the new (prepared) data frame."
   ]
  },
  {
   "cell_type": "code",
   "execution_count": 3,
   "metadata": {},
   "outputs": [],
   "source": [
    "# Copy the original data frame to a new data frame\n",
    "so_survey = so_survey_original.copy(deep=True)"
   ]
  },
  {
   "cell_type": "markdown",
   "metadata": {},
   "source": [
    "### 2. Drop rows with missing job satisfaction\n",
    "The target feature is 'JobSatisfaction'. It isn't desired to have missing values for a target feature, because the value NaN doesn't refer to numerical classification value. All target values have to be a numerical classification value before the Machine Learning model can be made."
   ]
  },
  {
   "cell_type": "code",
   "execution_count": 4,
   "metadata": {},
   "outputs": [
    {
     "name": "stdout",
     "output_type": "stream",
     "text": [
      "Rows (orig): 98855, Rows (prep): 69276\n"
     ]
    }
   ],
   "source": [
    "# Drop all rows with value NaN in the column 'JobSatisfaction'\n",
    "mask = pd.isnull(so_survey['JobSatisfaction']) == False\n",
    "so_survey = so_survey[mask].reset_index(drop=True)\n",
    "\n",
    "print('Rows (orig): %i, Rows (prep): %i' % (so_survey_original.shape[0], so_survey.shape[0]))"
   ]
  },
  {
   "cell_type": "markdown",
   "metadata": {},
   "source": [
    "### 3. Drop unimportant columns\n",
    "Some columns can be left out because they have no correlation with the target column 'JobSatisfaction', are redundant or have too many missing values."
   ]
  },
  {
   "cell_type": "markdown",
   "metadata": {},
   "source": [
    "#### 3.1. Drop columns 'Salary' and 'Salary Type'\n",
    "The column 'ConvertedSalary' is the combination of the columns 'Salary' and 'SalaryType'. The columns 'Salary' and 'SalaryType' are therefore redundant and can be dropped."
   ]
  },
  {
   "cell_type": "code",
   "execution_count": 5,
   "metadata": {},
   "outputs": [
    {
     "name": "stdout",
     "output_type": "stream",
     "text": [
      "Columns (orig): 129, Columns (prep): 127\n"
     ]
    }
   ],
   "source": [
    "# Drop the columns 'Salary' and 'SalaryType'\n",
    "so_survey.drop(so_survey[['Salary', 'SalaryType']], axis=1, inplace=True)\n",
    "\n",
    "print('Columns (orig): %i, Columns (prep): %i' % (so_survey_original.shape[1], so_survey.shape[1]))"
   ]
  },
  {
   "cell_type": "markdown",
   "metadata": {},
   "source": [
    "#### 3.2. Drop column 'Respondent'\n",
    "The column 'Respondent' is an unique identifier for each survey respondent. The values within this column aren't correlated with the target column 'JobSatisfaction'."
   ]
  },
  {
   "cell_type": "code",
   "execution_count": 6,
   "metadata": {},
   "outputs": [
    {
     "name": "stdout",
     "output_type": "stream",
     "text": [
      "Columns (orig): 129, Columns (prep): 126\n"
     ]
    }
   ],
   "source": [
    "# Drop the columns 'Respondent'\n",
    "so_survey.drop(so_survey[['Respondent']], axis=1, inplace=True)\n",
    "\n",
    "print('Columns (orig): %i, Columns (prep): %i' % (so_survey_original.shape[1], so_survey.shape[1]))"
   ]
  },
  {
   "cell_type": "markdown",
   "metadata": {},
   "source": [
    "#### 3.3. Drop columns containing 'StackOverflow' and 'Survey'\n",
    "Questions containing 'StackOverflow' and 'Survey' are used to gather feedback for Stack Overflow. The results of these questions aren't correlated with the targed column 'JobSatisfaction'."
   ]
  },
  {
   "cell_type": "code",
   "execution_count": 7,
   "metadata": {},
   "outputs": [],
   "source": [
    "def find_columns(df, str_list):\n",
    "    \"\"\" Find all columns which contain\n",
    "    any of the strings in 'str_list'\n",
    "    in their name.\n",
    "    \"\"\"\n",
    "    columns = []\n",
    "    for column in so_survey.columns:\n",
    "        # Check for every string in 'str_list' \n",
    "        # if it's in name of the column.\n",
    "        for s in str_list:\n",
    "            if s in column:\n",
    "                columns.append(column)\n",
    "                # Break prevents duplicate column names in the list 'columns'\n",
    "                break\n",
    "    return columns"
   ]
  },
  {
   "cell_type": "code",
   "execution_count": 8,
   "metadata": {},
   "outputs": [
    {
     "name": "stdout",
     "output_type": "stream",
     "text": [
      "Columns (orig): 129, Columns (prep): 116\n"
     ]
    }
   ],
   "source": [
    "columns = find_columns(so_survey, ['StackOverflow', 'Survey'])\n",
    "so_survey.drop(so_survey[columns], axis=1, inplace=True)\n",
    "\n",
    "print('Columns (orig): %i, Columns (prep): %i' % (so_survey_original.shape[1], so_survey.shape[1]))"
   ]
  },
  {
   "cell_type": "markdown",
   "metadata": {},
   "source": [
    "#### 3.4. Drop columns 'TimeAfterBootcamp' and 'MilitaryUS'\n",
    "Both the columns 'TimeAfterBootcamp' and 'MilitaryUS' have more than 80% of missing data. Imputing statistical values (e.g. mean, mode, etc.) won't result in accurate data."
   ]
  },
  {
   "cell_type": "code",
   "execution_count": 9,
   "metadata": {},
   "outputs": [
    {
     "name": "stdout",
     "output_type": "stream",
     "text": [
      "Columns (orig): 129, Columns (prep): 114\n"
     ]
    }
   ],
   "source": [
    "# Drop the columns 'SalaTimeAfterBootcampry' and 'MilitaryUS'\n",
    "so_survey.drop(so_survey[['TimeAfterBootcamp', 'MilitaryUS']], axis=1, inplace=True)\n",
    "\n",
    "print('Columns (orig): %i, Columns (prep): %i' % (so_survey_original.shape[1], so_survey.shape[1]))"
   ]
  },
  {
   "cell_type": "markdown",
   "metadata": {},
   "source": [
    "### 4. Prepare values in list format\n",
    "Some values in the dataset are denoted as $'Python;Java;C#'$. This format represents a list of different values. First, the ';' seperated list has to be converted to a real list data structure. Second, the list needs to be splitted into different columns to make it easy interpretable for Machine Learning algorithms. "
   ]
  },
  {
   "cell_type": "markdown",
   "metadata": {},
   "source": [
    "#### 4.1. Find columns containing list format\n",
    "The columns containing ';' seperated lists will be searched and listed below to get an overview."
   ]
  },
  {
   "cell_type": "code",
   "execution_count": 10,
   "metadata": {},
   "outputs": [],
   "source": [
    "def find_cols_containing_char(df, char):\n",
    "    \"\"\" Finds all columns with values\n",
    "    containing the given character.\n",
    "    \"\"\"\n",
    "    list_columns = []\n",
    "    # Look for every column\n",
    "    for col in df.columns:\n",
    "        values = df[col].values\n",
    "        # Numerical columns can be skipped, because columns \n",
    "        # with type 'number' doesn't contain(string-like) characters.\n",
    "        if np.issubdtype(values.dtype, np.number) == False:\n",
    "            # Look for every value in column\n",
    "            for val in values:\n",
    "                if char in str(val):\n",
    "                    list_columns.append(col)\n",
    "                    # Break prevents extra time spent while this \n",
    "                    # column already contains the character\n",
    "                    break\n",
    "    return list_columns"
   ]
  },
  {
   "cell_type": "code",
   "execution_count": 11,
   "metadata": {},
   "outputs": [
    {
     "data": {
      "text/plain": [
       "['DevType',\n",
       " 'CommunicationTools',\n",
       " 'EducationTypes',\n",
       " 'SelfTaughtTypes',\n",
       " 'HackathonReasons',\n",
       " 'LanguageWorkedWith',\n",
       " 'LanguageDesireNextYear',\n",
       " 'DatabaseWorkedWith',\n",
       " 'DatabaseDesireNextYear',\n",
       " 'PlatformWorkedWith',\n",
       " 'PlatformDesireNextYear',\n",
       " 'FrameworkWorkedWith',\n",
       " 'FrameworkDesireNextYear',\n",
       " 'IDE',\n",
       " 'Methodology',\n",
       " 'VersionControl',\n",
       " 'AdBlockerReasons',\n",
       " 'AdsActions',\n",
       " 'ErgonomicDevices',\n",
       " 'Gender',\n",
       " 'SexualOrientation',\n",
       " 'RaceEthnicity']"
      ]
     },
     "execution_count": 11,
     "metadata": {},
     "output_type": "execute_result"
    }
   ],
   "source": [
    "# Find all columns with values containing the character ';'\n",
    "list_columns = find_cols_containing_char(so_survey, ';')\n",
    "list_columns"
   ]
  },
  {
   "cell_type": "markdown",
   "metadata": {},
   "source": [
    "#### 4.2. Convert ';' seperated values to binarized representation\n",
    "List values such as $'Python;Java;C#'$ can't be used as input for a Machine Learning algorithm. First, the value has to be numerical. Second, numerification of the ';' values as is will result a unique class for every unique list. It is instead needed to get a unique class for every language present in the list.<br><br>\n",
    "To do this the the *MultiLabelBinarizer* algorithm from the *sklearn.preprocessing* library can be used. This algorithm converts values like $[['Python', 'Java', 'C#'], ['Python', 'C#']]$ to the following representation: $[[1, 1, 1], [1, 0, 1]]$ with the columns 'Python', 'Java' and 'C#'. This way the the values will be converted to a $0$ or a $1$ for each row, which is easier interpretable for a Machine Learning algorithm."
   ]
  },
  {
   "cell_type": "code",
   "execution_count": 12,
   "metadata": {},
   "outputs": [],
   "source": [
    "def binarize_list_columns(df, columns, sep=';'):\n",
    "    \"\"\" Converts all ';' (or other seperator) lists to actual list data structures.\n",
    "    The newly created list will be converted to a binarized matrix,\n",
    "    in which each column is a unique value present in the list.\n",
    "    The column tells if a certain value is present in the corresponding row or not\n",
    "    by using boolean (binary) values.\n",
    "    \"\"\"\n",
    "    df_copy = df.copy(deep=True)\n",
    "    mlb = MultiLabelBinarizer()\n",
    "    for col in columns:\n",
    "        # Convert list formats like 'Python;Java;C#' to [Python, Java, C#]\n",
    "        # If value is NaN, the value will be converted to []\n",
    "        tranformed_vals = [x.split(';') if x is not np.nan else [] for x in df_copy[col].values]\n",
    "        \n",
    "        # Binerize the tranformed values\n",
    "        binerized = mlb.fit_transform(tranformed_vals)\n",
    "\n",
    "        # Add the binerized value to the existing data frame\n",
    "        df_copy = df_copy.join(pd.DataFrame(binerized, columns=mlb.classes_), lsuffix='_left', rsuffix='_right')\n",
    "        \n",
    "        # Delete original column because it doesn't add value anymore\n",
    "        del df_copy[col]\n",
    "    return df_copy"
   ]
  },
  {
   "cell_type": "code",
   "execution_count": 13,
   "metadata": {},
   "outputs": [],
   "source": [
    "# The column 'Student' will colide with the value 'Student' in the binarization process.\n",
    "# Therefore the column 'Student' will be renamed to 'is_student'\n",
    "so_survey.rename(columns={'Student': 'is_student'}, inplace=True)"
   ]
  },
  {
   "cell_type": "code",
   "execution_count": 14,
   "metadata": {},
   "outputs": [
    {
     "name": "stdout",
     "output_type": "stream",
     "text": [
      "Columns (orig): 129, Columns (prep): 410\n"
     ]
    },
    {
     "data": {
      "text/html": [
       "<div>\n",
       "<style scoped>\n",
       "    .dataframe tbody tr th:only-of-type {\n",
       "        vertical-align: middle;\n",
       "    }\n",
       "\n",
       "    .dataframe tbody tr th {\n",
       "        vertical-align: top;\n",
       "    }\n",
       "\n",
       "    .dataframe thead th {\n",
       "        text-align: right;\n",
       "    }\n",
       "</style>\n",
       "<table border=\"1\" class=\"dataframe\">\n",
       "  <thead>\n",
       "    <tr style=\"text-align: right;\">\n",
       "      <th></th>\n",
       "      <th>Hobby</th>\n",
       "      <th>OpenSource</th>\n",
       "      <th>Country</th>\n",
       "      <th>is_student</th>\n",
       "      <th>Employment</th>\n",
       "      <th>FormalEducation</th>\n",
       "      <th>UndergradMajor</th>\n",
       "      <th>CompanySize</th>\n",
       "      <th>YearsCoding</th>\n",
       "      <th>YearsCodingProf</th>\n",
       "      <th>...</th>\n",
       "      <th>Bisexual or Queer</th>\n",
       "      <th>Gay or Lesbian</th>\n",
       "      <th>Straight or heterosexual</th>\n",
       "      <th>Black or of African descent</th>\n",
       "      <th>East Asian</th>\n",
       "      <th>Hispanic or Latino/Latina</th>\n",
       "      <th>Middle Eastern</th>\n",
       "      <th>Native American, Pacific Islander, or Indigenous Australian</th>\n",
       "      <th>South Asian</th>\n",
       "      <th>White or of European descent</th>\n",
       "    </tr>\n",
       "  </thead>\n",
       "  <tbody>\n",
       "    <tr>\n",
       "      <th>0</th>\n",
       "      <td>Yes</td>\n",
       "      <td>No</td>\n",
       "      <td>Kenya</td>\n",
       "      <td>No</td>\n",
       "      <td>Employed part-time</td>\n",
       "      <td>Bachelor’s degree (BA, BS, B.Eng., etc.)</td>\n",
       "      <td>Mathematics or statistics</td>\n",
       "      <td>20 to 99 employees</td>\n",
       "      <td>3-5 years</td>\n",
       "      <td>3-5 years</td>\n",
       "      <td>...</td>\n",
       "      <td>0</td>\n",
       "      <td>0</td>\n",
       "      <td>1</td>\n",
       "      <td>1</td>\n",
       "      <td>0</td>\n",
       "      <td>0</td>\n",
       "      <td>0</td>\n",
       "      <td>0</td>\n",
       "      <td>0</td>\n",
       "      <td>0</td>\n",
       "    </tr>\n",
       "    <tr>\n",
       "      <th>1</th>\n",
       "      <td>Yes</td>\n",
       "      <td>Yes</td>\n",
       "      <td>United Kingdom</td>\n",
       "      <td>No</td>\n",
       "      <td>Employed full-time</td>\n",
       "      <td>Bachelor’s degree (BA, BS, B.Eng., etc.)</td>\n",
       "      <td>A natural science (ex. biology, chemistry, phy...</td>\n",
       "      <td>10,000 or more employees</td>\n",
       "      <td>30 or more years</td>\n",
       "      <td>18-20 years</td>\n",
       "      <td>...</td>\n",
       "      <td>0</td>\n",
       "      <td>0</td>\n",
       "      <td>1</td>\n",
       "      <td>0</td>\n",
       "      <td>0</td>\n",
       "      <td>0</td>\n",
       "      <td>0</td>\n",
       "      <td>0</td>\n",
       "      <td>0</td>\n",
       "      <td>1</td>\n",
       "    </tr>\n",
       "    <tr>\n",
       "      <th>2</th>\n",
       "      <td>Yes</td>\n",
       "      <td>Yes</td>\n",
       "      <td>United States</td>\n",
       "      <td>No</td>\n",
       "      <td>Employed full-time</td>\n",
       "      <td>Associate degree</td>\n",
       "      <td>Computer science, computer engineering, or sof...</td>\n",
       "      <td>20 to 99 employees</td>\n",
       "      <td>24-26 years</td>\n",
       "      <td>6-8 years</td>\n",
       "      <td>...</td>\n",
       "      <td>0</td>\n",
       "      <td>0</td>\n",
       "      <td>0</td>\n",
       "      <td>0</td>\n",
       "      <td>0</td>\n",
       "      <td>0</td>\n",
       "      <td>0</td>\n",
       "      <td>0</td>\n",
       "      <td>0</td>\n",
       "      <td>0</td>\n",
       "    </tr>\n",
       "  </tbody>\n",
       "</table>\n",
       "<p>3 rows × 410 columns</p>\n",
       "</div>"
      ],
      "text/plain": [
       "  Hobby OpenSource         Country is_student          Employment  \\\n",
       "0   Yes         No           Kenya         No  Employed part-time   \n",
       "1   Yes        Yes  United Kingdom         No  Employed full-time   \n",
       "2   Yes        Yes   United States         No  Employed full-time   \n",
       "\n",
       "                            FormalEducation  \\\n",
       "0  Bachelor’s degree (BA, BS, B.Eng., etc.)   \n",
       "1  Bachelor’s degree (BA, BS, B.Eng., etc.)   \n",
       "2                          Associate degree   \n",
       "\n",
       "                                      UndergradMajor  \\\n",
       "0                          Mathematics or statistics   \n",
       "1  A natural science (ex. biology, chemistry, phy...   \n",
       "2  Computer science, computer engineering, or sof...   \n",
       "\n",
       "                CompanySize       YearsCoding YearsCodingProf  \\\n",
       "0        20 to 99 employees         3-5 years       3-5 years   \n",
       "1  10,000 or more employees  30 or more years     18-20 years   \n",
       "2        20 to 99 employees       24-26 years       6-8 years   \n",
       "\n",
       "               ...              Bisexual or Queer Gay or Lesbian  \\\n",
       "0              ...                              0              0   \n",
       "1              ...                              0              0   \n",
       "2              ...                              0              0   \n",
       "\n",
       "  Straight or heterosexual Black or of African descent East Asian  \\\n",
       "0                        1                           1          0   \n",
       "1                        1                           0          0   \n",
       "2                        0                           0          0   \n",
       "\n",
       "   Hispanic or Latino/Latina  Middle Eastern  \\\n",
       "0                          0               0   \n",
       "1                          0               0   \n",
       "2                          0               0   \n",
       "\n",
       "   Native American, Pacific Islander, or Indigenous Australian  South Asian  \\\n",
       "0                                                  0                      0   \n",
       "1                                                  0                      0   \n",
       "2                                                  0                      0   \n",
       "\n",
       "   White or of European descent  \n",
       "0                             0  \n",
       "1                             1  \n",
       "2                             0  \n",
       "\n",
       "[3 rows x 410 columns]"
      ]
     },
     "execution_count": 14,
     "metadata": {},
     "output_type": "execute_result"
    }
   ],
   "source": [
    "# Start binarization of list columns\n",
    "so_survey_bin = binarize_list_columns(so_survey, list_columns, ';')\n",
    "\n",
    "print('Columns (orig): %i, Columns (prep): %i' % (so_survey_original.shape[1], so_survey_bin.shape[1]))\n",
    "so_survey_bin.head(3)"
   ]
  },
  {
   "cell_type": "markdown",
   "metadata": {},
   "source": [
    "### 5. Convert string categories to numerical categories\n",
    "Most values in the survey results are  in text-format. Text isn't easy to interpret for Machine Learning algorithm. To solve this problem all text-formatted values will be converted by numerical values which will denote the class the value belongs to."
   ]
  },
  {
   "cell_type": "markdown",
   "metadata": {},
   "source": [
    "#### 5.1. Find columns with string values\n",
    "Let's find out how many columns with text-format are present in the dataset, to get a better understanding of the data."
   ]
  },
  {
   "cell_type": "code",
   "execution_count": 15,
   "metadata": {
    "scrolled": true
   },
   "outputs": [],
   "source": [
    "def find_object_cols(df):\n",
    "    \"\"\" Finds all columns that \n",
    "    have the dtype of 'object'\n",
    "    \"\"\"\n",
    "    return [x for x in df.columns if df[x].dtype == object]"
   ]
  },
  {
   "cell_type": "code",
   "execution_count": 16,
   "metadata": {},
   "outputs": [
    {
     "name": "stdout",
     "output_type": "stream",
     "text": [
      "Number of columns with object type: 51\n"
     ]
    }
   ],
   "source": [
    "# Find all columns with values in text-format\n",
    "obj_cols = find_object_cols(so_survey_bin)\n",
    "\n",
    "print('Number of columns with object type: %i' % (len(obj_cols)))"
   ]
  },
  {
   "cell_type": "markdown",
   "metadata": {},
   "source": [
    "#### 5.2. Convert string values to numerical values\n",
    "The value containing string will be converted to numerical value. E.g. a column with the values 'yes' and 'no' will be mapped to 1 (yes) and 0 (no)."
   ]
  },
  {
   "cell_type": "code",
   "execution_count": 17,
   "metadata": {},
   "outputs": [],
   "source": [
    "def encode_labels(df, columns):\n",
    "    \"\"\" Maps all values in the given columns\n",
    "    to a numeric value. Values with the same\n",
    "    text, will get the same numeric value/class.\n",
    "    \"\"\"\n",
    "    df_copy = df.copy(deep=True)\n",
    "    maps = {}\n",
    "    # Convert values in all of the given columns\n",
    "    for col in columns:\n",
    "        # Map values in a dictionary.\n",
    "        # E.g. column 'Language' with unique values ['Python', 'Java', C#]\n",
    "        # will get mapped to 'Python': 0, 'Java': 1, 'C#': 2.\n",
    "        maps[col] = {key: value for value, key in enumerate(df[col].unique()) if key is not np.nan}\n",
    "        \n",
    "    # Use the mappings to replace all the values \n",
    "    # to their mapped numerical values in one go.\n",
    "    df_copy.replace(maps, inplace=True)\n",
    "    \n",
    "    # Return the encoded data frame and the mappings for decode purposes.\n",
    "    return df_copy, maps"
   ]
  },
  {
   "cell_type": "code",
   "execution_count": 18,
   "metadata": {},
   "outputs": [
    {
     "name": "stdout",
     "output_type": "stream",
     "text": [
      "Number of columns with object type: 0\n"
     ]
    },
    {
     "data": {
      "text/html": [
       "<div>\n",
       "<style scoped>\n",
       "    .dataframe tbody tr th:only-of-type {\n",
       "        vertical-align: middle;\n",
       "    }\n",
       "\n",
       "    .dataframe tbody tr th {\n",
       "        vertical-align: top;\n",
       "    }\n",
       "\n",
       "    .dataframe thead th {\n",
       "        text-align: right;\n",
       "    }\n",
       "</style>\n",
       "<table border=\"1\" class=\"dataframe\">\n",
       "  <thead>\n",
       "    <tr style=\"text-align: right;\">\n",
       "      <th></th>\n",
       "      <th>Hobby</th>\n",
       "      <th>OpenSource</th>\n",
       "      <th>Country</th>\n",
       "      <th>is_student</th>\n",
       "      <th>Employment</th>\n",
       "      <th>FormalEducation</th>\n",
       "      <th>UndergradMajor</th>\n",
       "      <th>CompanySize</th>\n",
       "      <th>YearsCoding</th>\n",
       "      <th>YearsCodingProf</th>\n",
       "      <th>...</th>\n",
       "      <th>Bisexual or Queer</th>\n",
       "      <th>Gay or Lesbian</th>\n",
       "      <th>Straight or heterosexual</th>\n",
       "      <th>Black or of African descent</th>\n",
       "      <th>East Asian</th>\n",
       "      <th>Hispanic or Latino/Latina</th>\n",
       "      <th>Middle Eastern</th>\n",
       "      <th>Native American, Pacific Islander, or Indigenous Australian</th>\n",
       "      <th>South Asian</th>\n",
       "      <th>White or of European descent</th>\n",
       "    </tr>\n",
       "  </thead>\n",
       "  <tbody>\n",
       "    <tr>\n",
       "      <th>0</th>\n",
       "      <td>0</td>\n",
       "      <td>0</td>\n",
       "      <td>0</td>\n",
       "      <td>0.0</td>\n",
       "      <td>0</td>\n",
       "      <td>0.0</td>\n",
       "      <td>0.0</td>\n",
       "      <td>0.0</td>\n",
       "      <td>0.0</td>\n",
       "      <td>0</td>\n",
       "      <td>...</td>\n",
       "      <td>0</td>\n",
       "      <td>0</td>\n",
       "      <td>1</td>\n",
       "      <td>1</td>\n",
       "      <td>0</td>\n",
       "      <td>0</td>\n",
       "      <td>0</td>\n",
       "      <td>0</td>\n",
       "      <td>0</td>\n",
       "      <td>0</td>\n",
       "    </tr>\n",
       "    <tr>\n",
       "      <th>1</th>\n",
       "      <td>0</td>\n",
       "      <td>1</td>\n",
       "      <td>1</td>\n",
       "      <td>0.0</td>\n",
       "      <td>1</td>\n",
       "      <td>0.0</td>\n",
       "      <td>1.0</td>\n",
       "      <td>1.0</td>\n",
       "      <td>1.0</td>\n",
       "      <td>1</td>\n",
       "      <td>...</td>\n",
       "      <td>0</td>\n",
       "      <td>0</td>\n",
       "      <td>1</td>\n",
       "      <td>0</td>\n",
       "      <td>0</td>\n",
       "      <td>0</td>\n",
       "      <td>0</td>\n",
       "      <td>0</td>\n",
       "      <td>0</td>\n",
       "      <td>1</td>\n",
       "    </tr>\n",
       "    <tr>\n",
       "      <th>2</th>\n",
       "      <td>0</td>\n",
       "      <td>1</td>\n",
       "      <td>2</td>\n",
       "      <td>0.0</td>\n",
       "      <td>1</td>\n",
       "      <td>1.0</td>\n",
       "      <td>2.0</td>\n",
       "      <td>0.0</td>\n",
       "      <td>2.0</td>\n",
       "      <td>2</td>\n",
       "      <td>...</td>\n",
       "      <td>0</td>\n",
       "      <td>0</td>\n",
       "      <td>0</td>\n",
       "      <td>0</td>\n",
       "      <td>0</td>\n",
       "      <td>0</td>\n",
       "      <td>0</td>\n",
       "      <td>0</td>\n",
       "      <td>0</td>\n",
       "      <td>0</td>\n",
       "    </tr>\n",
       "  </tbody>\n",
       "</table>\n",
       "<p>3 rows × 410 columns</p>\n",
       "</div>"
      ],
      "text/plain": [
       "   Hobby  OpenSource  Country  is_student  Employment  FormalEducation  \\\n",
       "0      0           0        0         0.0           0              0.0   \n",
       "1      0           1        1         0.0           1              0.0   \n",
       "2      0           1        2         0.0           1              1.0   \n",
       "\n",
       "   UndergradMajor  CompanySize  YearsCoding  YearsCodingProf  \\\n",
       "0             0.0          0.0          0.0                0   \n",
       "1             1.0          1.0          1.0                1   \n",
       "2             2.0          0.0          2.0                2   \n",
       "\n",
       "               ...               Bisexual or Queer  Gay or Lesbian  \\\n",
       "0              ...                               0               0   \n",
       "1              ...                               0               0   \n",
       "2              ...                               0               0   \n",
       "\n",
       "   Straight or heterosexual  Black or of African descent  East Asian  \\\n",
       "0                         1                            1           0   \n",
       "1                         1                            0           0   \n",
       "2                         0                            0           0   \n",
       "\n",
       "   Hispanic or Latino/Latina  Middle Eastern  \\\n",
       "0                          0               0   \n",
       "1                          0               0   \n",
       "2                          0               0   \n",
       "\n",
       "   Native American, Pacific Islander, or Indigenous Australian  South Asian  \\\n",
       "0                                                  0                      0   \n",
       "1                                                  0                      0   \n",
       "2                                                  0                      0   \n",
       "\n",
       "   White or of European descent  \n",
       "0                             0  \n",
       "1                             1  \n",
       "2                             0  \n",
       "\n",
       "[3 rows x 410 columns]"
      ]
     },
     "execution_count": 18,
     "metadata": {},
     "output_type": "execute_result"
    }
   ],
   "source": [
    "# Encode/map values to a numerical value\n",
    "so_survey_conv, maps = encode_labels(so_survey_bin, obj_cols)\n",
    "\n",
    "print('Number of columns with object type: %i' % (len(find_object_cols(so_survey_conv))))\n",
    "so_survey_conv.head(3)"
   ]
  },
  {
   "cell_type": "markdown",
   "metadata": {},
   "source": [
    "### 6. Export prepped data frame\n",
    "The preprocessed data frame can be exported to a csv file, so future Machine Learning algorithms can use it."
   ]
  },
  {
   "cell_type": "code",
   "execution_count": 19,
   "metadata": {},
   "outputs": [],
   "source": [
    "# Export preprocessed data frame to a csv file\n",
    "so_survey_conv.to_csv('./dataset/so_survey_prepped.csv', index=False)"
   ]
  },
  {
   "cell_type": "markdown",
   "metadata": {},
   "source": [
    "### 7. Export used mappings\n",
    "The used mappings to numerical values are useful for decoding. A data frame will be created in which the numerical values are the row indeces and the text values are the column indeces. This will make future decoding of the values a lot easier."
   ]
  },
  {
   "cell_type": "code",
   "execution_count": 20,
   "metadata": {},
   "outputs": [],
   "source": [
    "def inverse_mappings(maps):\n",
    "    \"\"\" Switches the keys and values for every key value pairs of the original mappings.\n",
    "    E.g. 'Hobby': { 'yes': 1, 'no': 0 },\n",
    "    will become 'Hobby': { 1: 'yes', 0: 'no' }\n",
    "    \"\"\"\n",
    "    maps_inv = {}\n",
    "    # Look for every key/column with mapped values\n",
    "    for key in maps.keys():\n",
    "        m = {}\n",
    "        # Switch keys and values for all key value pairs.\n",
    "        for k, v in maps[key].items():\n",
    "            m[v] = k\n",
    "        maps_inv[key] = m\n",
    "    return maps_inv"
   ]
  },
  {
   "cell_type": "code",
   "execution_count": 21,
   "metadata": {},
   "outputs": [
    {
     "data": {
      "text/html": [
       "<div>\n",
       "<style scoped>\n",
       "    .dataframe tbody tr th:only-of-type {\n",
       "        vertical-align: middle;\n",
       "    }\n",
       "\n",
       "    .dataframe tbody tr th {\n",
       "        vertical-align: top;\n",
       "    }\n",
       "\n",
       "    .dataframe thead th {\n",
       "        text-align: right;\n",
       "    }\n",
       "</style>\n",
       "<table border=\"1\" class=\"dataframe\">\n",
       "  <thead>\n",
       "    <tr style=\"text-align: right;\">\n",
       "      <th></th>\n",
       "      <th>Hobby</th>\n",
       "      <th>OpenSource</th>\n",
       "      <th>Country</th>\n",
       "      <th>is_student</th>\n",
       "      <th>Employment</th>\n",
       "      <th>FormalEducation</th>\n",
       "      <th>UndergradMajor</th>\n",
       "      <th>CompanySize</th>\n",
       "      <th>YearsCoding</th>\n",
       "      <th>YearsCodingProf</th>\n",
       "      <th>...</th>\n",
       "      <th>HypotheticalTools4</th>\n",
       "      <th>HypotheticalTools5</th>\n",
       "      <th>WakeTime</th>\n",
       "      <th>HoursComputer</th>\n",
       "      <th>HoursOutside</th>\n",
       "      <th>SkipMeals</th>\n",
       "      <th>Exercise</th>\n",
       "      <th>EducationParents</th>\n",
       "      <th>Age</th>\n",
       "      <th>Dependents</th>\n",
       "    </tr>\n",
       "  </thead>\n",
       "  <tbody>\n",
       "    <tr>\n",
       "      <th>0</th>\n",
       "      <td>Yes</td>\n",
       "      <td>No</td>\n",
       "      <td>Kenya</td>\n",
       "      <td>No</td>\n",
       "      <td>Employed part-time</td>\n",
       "      <td>Bachelor’s degree (BA, BS, B.Eng., etc.)</td>\n",
       "      <td>Mathematics or statistics</td>\n",
       "      <td>20 to 99 employees</td>\n",
       "      <td>3-5 years</td>\n",
       "      <td>3-5 years</td>\n",
       "      <td>...</td>\n",
       "      <td>Extremely interested</td>\n",
       "      <td>Extremely interested</td>\n",
       "      <td>Between 5:00 - 6:00 AM</td>\n",
       "      <td>9 - 12 hours</td>\n",
       "      <td>1 - 2 hours</td>\n",
       "      <td>Never</td>\n",
       "      <td>3 - 4 times per week</td>\n",
       "      <td>Bachelor’s degree (BA, BS, B.Eng., etc.)</td>\n",
       "      <td>25 - 34 years old</td>\n",
       "      <td>Yes</td>\n",
       "    </tr>\n",
       "    <tr>\n",
       "      <th>1</th>\n",
       "      <td>No</td>\n",
       "      <td>Yes</td>\n",
       "      <td>United Kingdom</td>\n",
       "      <td>Yes, part-time</td>\n",
       "      <td>Employed full-time</td>\n",
       "      <td>Associate degree</td>\n",
       "      <td>A natural science (ex. biology, chemistry, phy...</td>\n",
       "      <td>10,000 or more employees</td>\n",
       "      <td>30 or more years</td>\n",
       "      <td>18-20 years</td>\n",
       "      <td>...</td>\n",
       "      <td>A little bit interested</td>\n",
       "      <td>A little bit interested</td>\n",
       "      <td>Between 6:01 - 7:00 AM</td>\n",
       "      <td>5 - 8 hours</td>\n",
       "      <td>30 - 59 minutes</td>\n",
       "      <td>NaN</td>\n",
       "      <td>Daily or almost every day</td>\n",
       "      <td>NaN</td>\n",
       "      <td>35 - 44 years old</td>\n",
       "      <td>NaN</td>\n",
       "    </tr>\n",
       "    <tr>\n",
       "      <th>2</th>\n",
       "      <td>NaN</td>\n",
       "      <td>NaN</td>\n",
       "      <td>United States</td>\n",
       "      <td>Yes, full-time</td>\n",
       "      <td>Independent contractor, freelancer, or self-em...</td>\n",
       "      <td>Some college/university study without earning ...</td>\n",
       "      <td>Computer science, computer engineering, or sof...</td>\n",
       "      <td>100 to 499 employees</td>\n",
       "      <td>24-26 years</td>\n",
       "      <td>6-8 years</td>\n",
       "      <td>...</td>\n",
       "      <td>NaN</td>\n",
       "      <td>NaN</td>\n",
       "      <td>NaN</td>\n",
       "      <td>NaN</td>\n",
       "      <td>NaN</td>\n",
       "      <td>3 - 4 times per week</td>\n",
       "      <td>NaN</td>\n",
       "      <td>Some college/university study without earning ...</td>\n",
       "      <td>NaN</td>\n",
       "      <td>No</td>\n",
       "    </tr>\n",
       "  </tbody>\n",
       "</table>\n",
       "<p>3 rows × 51 columns</p>\n",
       "</div>"
      ],
      "text/plain": [
       "  Hobby OpenSource         Country      is_student  \\\n",
       "0   Yes         No           Kenya              No   \n",
       "1    No        Yes  United Kingdom  Yes, part-time   \n",
       "2   NaN        NaN   United States  Yes, full-time   \n",
       "\n",
       "                                          Employment  \\\n",
       "0                                 Employed part-time   \n",
       "1                                 Employed full-time   \n",
       "2  Independent contractor, freelancer, or self-em...   \n",
       "\n",
       "                                     FormalEducation  \\\n",
       "0           Bachelor’s degree (BA, BS, B.Eng., etc.)   \n",
       "1                                   Associate degree   \n",
       "2  Some college/university study without earning ...   \n",
       "\n",
       "                                      UndergradMajor  \\\n",
       "0                          Mathematics or statistics   \n",
       "1  A natural science (ex. biology, chemistry, phy...   \n",
       "2  Computer science, computer engineering, or sof...   \n",
       "\n",
       "                CompanySize       YearsCoding YearsCodingProf    ...      \\\n",
       "0        20 to 99 employees         3-5 years       3-5 years    ...       \n",
       "1  10,000 or more employees  30 or more years     18-20 years    ...       \n",
       "2      100 to 499 employees       24-26 years       6-8 years    ...       \n",
       "\n",
       "        HypotheticalTools4       HypotheticalTools5                WakeTime  \\\n",
       "0     Extremely interested     Extremely interested  Between 5:00 - 6:00 AM   \n",
       "1  A little bit interested  A little bit interested  Between 6:01 - 7:00 AM   \n",
       "2                      NaN                      NaN                     NaN   \n",
       "\n",
       "  HoursComputer     HoursOutside             SkipMeals  \\\n",
       "0  9 - 12 hours      1 - 2 hours                 Never   \n",
       "1   5 - 8 hours  30 - 59 minutes                   NaN   \n",
       "2           NaN              NaN  3 - 4 times per week   \n",
       "\n",
       "                    Exercise  \\\n",
       "0       3 - 4 times per week   \n",
       "1  Daily or almost every day   \n",
       "2                        NaN   \n",
       "\n",
       "                                    EducationParents                Age  \\\n",
       "0           Bachelor’s degree (BA, BS, B.Eng., etc.)  25 - 34 years old   \n",
       "1                                                NaN  35 - 44 years old   \n",
       "2  Some college/university study without earning ...                NaN   \n",
       "\n",
       "  Dependents  \n",
       "0        Yes  \n",
       "1        NaN  \n",
       "2         No  \n",
       "\n",
       "[3 rows x 51 columns]"
      ]
     },
     "execution_count": 21,
     "metadata": {},
     "output_type": "execute_result"
    }
   ],
   "source": [
    "# Inverse the current mappings and create a mappings matrix dataframe from the inversed mappings\n",
    "maps_matrix = pd.DataFrame(inverse_mappings(maps))\n",
    "\n",
    "maps_matrix.head(3)"
   ]
  },
  {
   "cell_type": "code",
   "execution_count": 22,
   "metadata": {},
   "outputs": [],
   "source": [
    "# Export the mappings matrix to a csv file\n",
    "maps_matrix.to_csv('./dataset/so_survey_mappings.csv', index=False)"
   ]
  },
  {
   "cell_type": "markdown",
   "metadata": {},
   "source": [
    "### 8. Impute missing data\n",
    "A lot of data is missing, this missing data can be imputed with statistical values (e.g. mean, mode, etc.)."
   ]
  },
  {
   "cell_type": "markdown",
   "metadata": {},
   "source": [
    "#### 8.1. Impute missing values for numerical and categorical columns\n",
    "Only the column 'ConvertedSalary' is of the numerical data type. We can impute the missing data of the numerical data type by using the mean of all values. All the other columns are of the categorical data type. We can impute the missing data of the categorical data type by using the mode (most frequent) of all values."
   ]
  },
  {
   "cell_type": "code",
   "execution_count": 23,
   "metadata": {},
   "outputs": [],
   "source": [
    "def impute_missing(df):\n",
    "    \"\"\" Missing values of numerical columns will \n",
    "    be replaced by the mean of all values of that column.\n",
    "    Missing values of categorical columns will\n",
    "    be replaced by the mode of all values of that column.\n",
    "    \"\"\"\n",
    "    # Look for every column\n",
    "    for col in df.columns:\n",
    "        values = df[col].values\n",
    "        stat_value = 0\n",
    "        if col is 'ConvertedSalary':\n",
    "            # If column is numerical: get mean of all values\n",
    "            stat_value = values[~np.isnan(values)].mean()\n",
    "        else:\n",
    "            # If column is numerical: get mode of all values\n",
    "            stat_value = stats.mode(values[~np.isnan(values)])[0][0]\n",
    "        # Fill missing values with statistical value\n",
    "        df[col].fillna(stat_value, inplace=True)"
   ]
  },
  {
   "cell_type": "code",
   "execution_count": 24,
   "metadata": {},
   "outputs": [],
   "source": [
    "# Impute the missing values with statistical values (mean, mode, etc.)\n",
    "impute_missing(so_survey_conv)"
   ]
  },
  {
   "cell_type": "markdown",
   "metadata": {},
   "source": [
    "### 9. Export imputed data frame\n",
    "The imputed preprocessed data frame will also be exported to a csv file. This is because both the imputed version and the not-imputed version of the preprocessed dataset will be tested in the project. The one that will perform better will be chosen."
   ]
  },
  {
   "cell_type": "code",
   "execution_count": 25,
   "metadata": {},
   "outputs": [],
   "source": [
    "# Export preprocessed imputed data frame to a csv file\n",
    "so_survey_conv.to_csv('./dataset/so_survey_prepped_imputed.csv', index=False)"
   ]
  }
 ],
 "metadata": {
  "kernelspec": {
   "display_name": "Python 3",
   "language": "python",
   "name": "python3"
  },
  "language_info": {
   "codemirror_mode": {
    "name": "ipython",
    "version": 3
   },
   "file_extension": ".py",
   "mimetype": "text/x-python",
   "name": "python",
   "nbconvert_exporter": "python",
   "pygments_lexer": "ipython3",
   "version": "3.6.5"
  }
 },
 "nbformat": 4,
 "nbformat_minor": 2
}

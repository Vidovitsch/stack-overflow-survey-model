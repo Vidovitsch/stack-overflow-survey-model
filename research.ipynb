{
 "cells": [
  {
   "cell_type": "markdown",
   "metadata": {},
   "source": [
    "# Predicting Job Satisfaction of Software Developers\n",
    "In this research project a classification model will be created that tries to predict the Job Satisfaction of Software Developers using the survey results from the Stack Overflow survey of 2018."
   ]
  },
  {
   "cell_type": "markdown",
   "metadata": {},
   "source": [
    "## 1. Describing the dataset\n",
    "[Stack Overflow](https://stackoverflow.com/) is a website where you can ask and answer software related questions. It is a platform where millions of programmers, software developers, software engineers, etc. meet every day to learn form each other. Stack Overflow itself is aware of the enormous popularity of their platform and for this reason they keep a annual survey to get general insight about the average software engineer in relation to his/her field of work.\n",
    "\n",
    "Every year the results of the survey will get published on their website (cleaned and in csv format). Multiple datasets (one for each year since 2015) are available for analysis. For this project the survey results of 2018 will be used exclusively. The main reason for this choice is recency and the completeness of the results. The 2018 survey results were filled in by around 100.000 software developers, most of which answered 129 different questions. These questions are about job satisfaction, salary, favourite programming languages, weekly exercise, company size, etc. This large variety of questions provides a source of interesting research opportunities.\n",
    "\n",
    "**Source of the dataset**<br />\n",
    "Stack Overflow Developer Survey 2018 (186 MB): https://www.kaggle.com/stackoverflow/stack-overflow-2018-developer-survey\n",
    "\n",
    "\n",
    "**Data description:**<br />\n",
    "The Stack Overflow survey results of 2018 has in total 98855 rows and 129 columns. Some of these columns consist of only numerical data, like: 'Salary' and 'ConvertedSalary'. All the other columns are categorical. The categorical columns are devidable over three types of columns:\n",
    "- Values denoted in text. E.g. 'Yes', 'No', 'United States', 'Employed part-time', etc.\n",
    "- Values denoted in ';' seperated lists. E.g. 'Python;Java;C#', 'Windows;Linux;, etc.\n",
    "- Values denoted in numbers. E.g. 1, 2, 3, 4, etc. (for rankings)\n",
    "\n",
    "Textual input can't be interpreted easily by the average Machine Learning algorithm. Therefore, preprocessing of the original dataset is needed, so it can be used for further analysis. A [notebook](./dataset_preprocessing.ipynb) is created that is dedicted to preprocessing the Stack Overflow survey dataset in the following ways:\n",
    "- Drop rows with missing values in the column 'JobSatisfaction'. The column 'JobSatisfaction' is the target value that will be used for analysis. It is not desirable to have missing values for a target feature, because the value NaN doesn't refer to valid classification value.\n",
    "- Drop unimportant columns. Some columns can be left out because they have no correlation with the target column 'JobSatisfaction', are redundant or have too many missing values (80%).\n",
    "- Preprocess values dentoed in ';' seperated lists. List values such as 'Python;Java;C#' can't be used as input for a Machine Learning algorithm. First, the value has to be numerical. Second, numerification of the ';' value as is will result a unique class for every unique list. It is instead needed to get a unique class for every language present in the list.\n",
    "- Encode text to numerical values. Text isn't easy to interpret for Machine Learning algorithms. To solve this problem all text-formatted values will be converted to numerical values.\n",
    "- (optional) Impute missing values. A lot of data is missing, this missing data can be imputed with statistical values (e.g. mean, mode, etc.). Both the imputed and not-imputed dataset will be used in the analysis. (The one that will perform better will be chosen)\n",
    "\n",
    "The above steps will result in a preprocessed data set with 69276 rows and 410 columns.<br />\n",
    "The data will be tranformed as follows:<br />\n",
    "\n",
    "| Student | Programming Language | Country        |\n",
    "|:-------:|:--------------------:|:--------------:|\n",
    "| Yes     | Python;Java;C#       | Kenya          |\n",
    "| No      | Python;C#            | United Kingdom |\n",
    "| Yes     | Java;C#              | United States  |\n",
    "\n",
    "| Student | Python | Java | C# | Country |\n",
    "|:-------:|:------:|:----:|:--:|:-------:|\n",
    "| 1       | 1      | 1    | 1  | 0       |\n",
    "| 0       | 1      | 0    | 1  | 1       |\n",
    "| 1       | 0      | 1    | 1  | 2       |"
   ]
  },
  {
   "cell_type": "markdown",
   "metadata": {},
   "source": [
    "## 2. Defining research\n",
    "Research will be conducted on the job satisfaction of software developers. The dataset, as described above, will be used to create a classifaction model that predicts the job statisfaction of software developers. The following research question will be answered:\n",
    "\n",
    "**Can an accurate model be created, given the features denoted in the survey, to predict the job satisfaction of software developers?**\n",
    "\n",
    "The model will be seen as accurate if at least 90% of the predictions are the same as the target values (column 'JobSatisfaction'). On top of the research question, a initial hypothesis can be made:\n",
    "\n",
    "**Salary and career satisfaction are the main influencors of job satisfaction, and is therefore responsible for a high accuracy classification model.**\n",
    "\n",
    "This hypothesis will be either approved or rejected accoring to the reseach results."
   ]
  },
  {
   "cell_type": "markdown",
   "metadata": {},
   "source": [
    "## 3. Exploration\n",
    "Initial exploration of the data gives insight of the data itself and a better intuiting while conducting the research."
   ]
  },
  {
   "cell_type": "code",
   "execution_count": 1,
   "metadata": {},
   "outputs": [],
   "source": [
    "%matplotlib inline\n",
    "import pandas as pd\n",
    "import numpy as np\n",
    "import matplotlib.pyplot as plt\n",
    "import seaborn as sns"
   ]
  },
  {
   "cell_type": "markdown",
   "metadata": {},
   "source": [
    "### 3.1. Import the preprocessed dataset\n",
    "Only the not-imputed dataset will be imported for exploration. This is because the not-imputed dataset will yield more accurate visualization in contrast to the imputed dataset. "
   ]
  },
  {
   "cell_type": "code",
   "execution_count": 2,
   "metadata": {},
   "outputs": [],
   "source": [
    "# Import preprocessed not-imputed dataset\n",
    "so_survey = pd.read_csv('./dataset/so_survey_prepped.csv')\n",
    "\n",
    "# Import the mappings for decoding purposes\n",
    "so_mappings = pd.read_csv('./dataset/so_survey_mappings.csv')"
   ]
  },
  {
   "cell_type": "code",
   "execution_count": null,
   "metadata": {},
   "outputs": [],
   "source": [
    "# Show first three entries of so_survey data frame\n",
    "so_survey.head(3)"
   ]
  },
  {
   "cell_type": "code",
   "execution_count": null,
   "metadata": {},
   "outputs": [],
   "source": [
    "# Show first three entries of so_mappings data frame\n",
    "so_mappings.head(3)"
   ]
  },
  {
   "cell_type": "markdown",
   "metadata": {},
   "source": [
    "### 3.2. Create decode  and encode function\n",
    "In advance, a generic decode and encode function will be created"
   ]
  },
  {
   "cell_type": "code",
   "execution_count": null,
   "metadata": {},
   "outputs": [],
   "source": [
    "def decode_labels(labels, column_name, decoder=so_mappings):\n",
    "    \"\"\" Decodes encoded (preprocessed) labes using a decoder.\n",
    "    E.g. [0, 1, 0, 0] for column 'Hobby' => ['Yes', 'No', 'Yes', 'Yes']\n",
    "    \"\"\"\n",
    "    decoded_labels = so_mappings[column_name].values\n",
    "    return [decoded_labels[i] for i in labels]\n",
    "\n",
    "def encode_labels(labels, column_name, encoder=so_mappings):\n",
    "    \"\"\" Encoded decoded labes using an encoder.\n",
    "    E.g. ['Yes', 'No', 'Yes', 'Yes'] for column 'Hobby' => [0, 1, 0, 0]\n",
    "    \"\"\"\n",
    "    decoded_labels = so_mappings[column_name].values.tolist()\n",
    "    return [decoded_labels.index(l) for l in labels]"
   ]
  },
  {
   "cell_type": "markdown",
   "metadata": {},
   "source": [
    "### 3.3. Distribution of salary\n",
    "Lets see how salary is distributed."
   ]
  },
  {
   "cell_type": "code",
   "execution_count": null,
   "metadata": {},
   "outputs": [],
   "source": [
    "# Make a data frame with column 'ConvertedSalary' and NaN values filtered out\n",
    "mask = pd.isnull(so_survey['ConvertedSalary']) == False\n",
    "salaries = so_survey['ConvertedSalary'][mask].values"
   ]
  },
  {
   "cell_type": "code",
   "execution_count": null,
   "metadata": {
    "scrolled": true
   },
   "outputs": [],
   "source": [
    "# Plot salary distribution\n",
    "plt.figure(figsize=(20,5))\n",
    "kde = sns.kdeplot(salaries, shade=True)\n",
    "kde.set(title='Data distribution of salary', \n",
    "        xlabel='Salary', ylabel='Frequency');"
   ]
  },
  {
   "cell_type": "markdown",
   "metadata": {},
   "source": [
    "The distribution of salary appears the be very skewed. To reduce the skew, log transformation can be applied on the salaries. But before we can do this, the salaries with value zero needs to be filtered out (logarithm of zero is impossible)."
   ]
  },
  {
   "cell_type": "code",
   "execution_count": null,
   "metadata": {},
   "outputs": [],
   "source": [
    "salaries = np.log(salaries[salaries != 0])"
   ]
  },
  {
   "cell_type": "code",
   "execution_count": null,
   "metadata": {
    "scrolled": true
   },
   "outputs": [],
   "source": [
    "# Plot salary distribution (log transformed)\n",
    "plt.figure(figsize=(20,5))\n",
    "kde = sns.kdeplot(salaries, shade=True)\n",
    "kde.set(title='Data distribution of salary (log transformed)', \n",
    "        xlabel='Salary (log transformed)', \n",
    "        ylabel='Frequency');"
   ]
  },
  {
   "cell_type": "markdown",
   "metadata": {},
   "source": [
    "The data distribution has now more the appearance of a gaussian distribution (bell curve shape). Although, the data is still skewed due to the outliers. If the many outliers will cause the classification model to perform badly, the outliers will be removed. This can be done, for example, by pruning the data by $x$ times the standard deviation of the salaries."
   ]
  },
  {
   "cell_type": "markdown",
   "metadata": {},
   "source": [
    "### 3.4. Average salary per job satisfaction class\n",
    "Job Satisfaction has 5 different classes: 'Extremely satisfied', 'Extremely dissatisfied', 'Moderately dissatified', 'Moderately satisfied', 'Slightly dissatisfied', 'Slightly satisfied' and 'Neither satisfied nor dissatisfied'. Lets see what the average salary is for each class."
   ]
  },
  {
   "cell_type": "code",
   "execution_count": null,
   "metadata": {},
   "outputs": [],
   "source": [
    "# Get only the data from people that work full-time (yields more accurate results)\n",
    "employed = so_survey[so_survey['Employment'] == encode_labels(['Employed full-time'], 'Employment')]\n",
    "\n",
    "# Remove the data with unknown salary and unknown job satisfaction\n",
    "employed = employed[pd.isnull(employed['ConvertedSalary']) == False]\n",
    "\n",
    "# Create a new data frame containing only the columns 'JobSatisfaction' and 'Salary (USD/Year)'\n",
    "employed = employed[['JobSatisfaction', 'ConvertedSalary']]\n",
    "\n",
    "# Group the data frame by 'JobSatisfaction' to get the average salary for each individual language\n",
    "employed['ConvertedSalary'] = employed['ConvertedSalary'].astype(float)\n",
    "employed = employed.groupby('JobSatisfaction').mean().sort_values(by=['ConvertedSalary'])\n",
    "employed['ConvertedSalary'] = employed['ConvertedSalary'].astype(int) # removes decimal points\n",
    "\n",
    "# Decode encoded labels to actual (text) values\n",
    "employed.index = decode_labels(employed.index, 'JobSatisfaction')"
   ]
  },
  {
   "cell_type": "code",
   "execution_count": null,
   "metadata": {},
   "outputs": [],
   "source": [
    "# Plot the data frame to show the job satisfaction with the average salary\n",
    "barh = employed.plot.barh(figsize=(20, 7), \n",
    "                           fontsize=15, \n",
    "                           title=\"Average salary in correlation with job satisfaction\",\n",
    "                           color='#C6DCEC')\n",
    "for i, v in enumerate(employed.values):\n",
    "    barh.text(v + .5, i - .1, '$' + str(v[0]), color='black')\n",
    "barh.set_ylabel(\"Job Satisfaction\")\n",
    "barh.get_xaxis().set_visible(False)"
   ]
  },
  {
   "cell_type": "markdown",
   "metadata": {},
   "source": [
    "There appears to be a correlation between job satisfaction and salary. The software developers in the 'extreme' classes get paid more than developers in the 'moderately' classes, which in turn get paid more than the developers in the 'slightly' classes. This could mean that salary has an influence on the severity (extremely, moderately, slightly) of the satisfaction rather than the ranking of the satisfaction."
   ]
  },
  {
   "cell_type": "markdown",
   "metadata": {},
   "source": [
    "## 4. Analysis\n",
    "In this part, some classifiction algorithms will be trained to predict the job satisfaction of software developers. This will be done by implementing the following strategy:\n",
    "1. Loosely optimize the hyperparameters of a classifier that will be used in the feature selection part. This prevents selecting features with e.g. an overfitted/underfit model.\n",
    "2. Selecting features with the finetuned classifier. (feature selection is necessary since training classifiers with 409 features and more than 10000 rows is extremely time consuming) \n",
    "3. Use the selected features to train and finetune different classifiers.\n",
    "4. Compare the performance of the different models."
   ]
  },
  {
   "cell_type": "code",
   "execution_count": 3,
   "metadata": {},
   "outputs": [],
   "source": [
    "# Import necessary sklearn libraries\n",
    "from sklearn import preprocessing\n",
    "from sklearn.model_selection import train_test_split\n",
    "from sklearn.model_selection import cross_val_score"
   ]
  },
  {
   "cell_type": "markdown",
   "metadata": {},
   "source": [
    "### 4.1. Setup datasets"
   ]
  },
  {
   "cell_type": "code",
   "execution_count": 4,
   "metadata": {},
   "outputs": [],
   "source": [
    "# Import preprocessed imputed dataset\n",
    "so_survey_imputed= pd.read_csv('./dataset/so_survey_prepped_imputed.csv')"
   ]
  },
  {
   "cell_type": "code",
   "execution_count": null,
   "metadata": {},
   "outputs": [],
   "source": [
    "# Drop NaN values from preprocessed not-imputed dataset\n",
    "so_survey.dropna(inplace=True)"
   ]
  },
  {
   "cell_type": "markdown",
   "metadata": {},
   "source": [
    "### 4.2. Setup the features and target values"
   ]
  },
  {
   "cell_type": "code",
   "execution_count": 5,
   "metadata": {},
   "outputs": [],
   "source": [
    "# Set target (y) \n",
    "target = 'JobSatisfaction'\n",
    "y = so_survey[target]"
   ]
  },
  {
   "cell_type": "code",
   "execution_count": 6,
   "metadata": {},
   "outputs": [],
   "source": [
    "# Set features (X)\n",
    "features = [x for x in so_survey.columns if x != target]\n",
    "X = so_survey[features]"
   ]
  },
  {
   "cell_type": "markdown",
   "metadata": {},
   "source": [
    "### 4.3. Perform feature scaling\n",
    "A min max scaler will be used to scale the features to values between 0 and 1, resulting in all features having values within the same range. This has some benefits:\n",
    "+ All features have the same 'weight'. This will help algorithms like SVM (with Gaussian kernel) to perform better.\n",
    "+ Speeds up gradient descent while training.\n",
    "+ Improves insight in coefficients. If all features have the same 'weight', resulting coefficient will describe the influence of feature on the target better. This is useful for feature selection."
   ]
  },
  {
   "cell_type": "code",
   "execution_count": 7,
   "metadata": {},
   "outputs": [],
   "source": [
    "# Perform feature scaling with min max scaler\n",
    "scaler = preprocessing.MinMaxScaler(feature_range=(0, 1))\n",
    "X_scaled = scaler.fit_transform(X)"
   ]
  },
  {
   "cell_type": "markdown",
   "metadata": {},
   "source": [
    "### 4.4. Split into training and testing set\n",
    "The features and target values will be split into training and testing sets.\n",
    "The training set will contain 75% of the dataset (randomly selected rows)\n",
    "The testing set will therefore contain 25% of the dataset."
   ]
  },
  {
   "cell_type": "code",
   "execution_count": 8,
   "metadata": {},
   "outputs": [],
   "source": [
    "X_train, X_test, y_train, y_test = train_test_split(X_scaled, y, test_size=0.25, random_state=42)"
   ]
  },
  {
   "cell_type": "markdown",
   "metadata": {},
   "source": [
    "### 4.5. Loosely optimize hyperparameters\n",
    "The Random Forest classifier will be used as an estimator for the feature selection step. This has the following benefits:\n",
    "+ Popular feature selection algorithms like RFE or RFECV are recursively training a classifier. This will take a lot of time. Decision Trees are faster than classifiers such as Neural Networks or Support Vector Machines. \n",
    "+ By using a Random Forest the main drawback of Decision Trees (overfitting the training set) will be (partly) solved.\n",
    "+ It isn't known if the classes are linear separatable. A Random Forest is both a linear and a non-linear classifier.\n",
    "<br><br>The RandomizedSearch method will be used in contrast to GridSearch, because RandomizedSearch doesn't compute all possible computations (hence 'loosely') and is therefore computationally inexpensive."
   ]
  },
  {
   "cell_type": "code",
   "execution_count": 9,
   "metadata": {},
   "outputs": [],
   "source": [
    "# Import Random Forest classifier and RandomizedSearchCV algorithm\n",
    "from sklearn.ensemble import RandomForestClassifier\n",
    "from sklearn.model_selection import RandomizedSearchCV"
   ]
  },
  {
   "cell_type": "code",
   "execution_count": null,
   "metadata": {},
   "outputs": [],
   "source": [
    "# Define ranges for several of the Random Forest hyperparameters\n",
    "n_estimators = [int(x) for x in np.linspace(start=100, stop=500, num=5)]\n",
    "max_depth = [int(x) for x in np.linspace(start=5, stop=50, num=10)]\n",
    "min_samples_split = [2, 5, 10]\n",
    "min_samples_leaf = [1, 2, 4]"
   ]
  },
  {
   "cell_type": "code",
   "execution_count": null,
   "metadata": {},
   "outputs": [],
   "source": [
    "# Create the random grid with defined hyperparameter ranges\n",
    "random_grid = { 'n_estimators': n_estimators,\n",
    "                'max_depth': max_depth,\n",
    "                'min_samples_split': min_samples_split,\n",
    "                'min_samples_leaf': min_samples_leaf }\n",
    "# Print grid\n",
    "[print('%s: %s' % x) for x in random_grid.items()];"
   ]
  },
  {
   "cell_type": "code",
   "execution_count": null,
   "metadata": {},
   "outputs": [],
   "source": [
    "# Train default RandomForestClassifier for comparison\n",
    "default_score = np.sum(cross_val_score(RandomForestClassifier(), X, y, cv=3)) / 3\n",
    "\n",
    "# Print default cross-validated score\n",
    "print('Mean cross-validated score of the default estimator: %0.3f' % (default_score))"
   ]
  },
  {
   "cell_type": "code",
   "execution_count": null,
   "metadata": {
    "scrolled": true
   },
   "outputs": [],
   "source": [
    "# Use the random grid to search for best hyperparameters\n",
    "# First create the base model to tune\n",
    "rf_estimator = RandomForestClassifier()\n",
    "# Random search of parameters, using 5 fold cross validation, \n",
    "# search across 10 different combinations, and use all available cores\n",
    "random_search = RandomizedSearchCV(estimator=rf_estimator, \n",
    "                                   param_distributions=random_grid, \n",
    "                                   n_iter=25, \n",
    "                                   cv=3, \n",
    "                                   verbose=1, \n",
    "                                   random_state=84, \n",
    "                                   n_jobs=-1)\n",
    "\n",
    "# Fit the random search model\n",
    "random_search = random_search.fit(X_train, y_train)"
   ]
  },
  {
   "cell_type": "code",
   "execution_count": null,
   "metadata": {
    "scrolled": true
   },
   "outputs": [],
   "source": [
    "# Print best cross-validated score\n",
    "print('Mean cross-validated score of the best estimator: %0.3f' % (random_search.best_score_))\n",
    "print('Improvement relative to default score: : %0.3f' % (random_search.best_score_ - default_score)\n",
    "\n",
    "# Show best parameters\n",
    "best_random_rf_params = random_search.best_params_\n",
    "best_random_rf_params"
   ]
  },
  {
   "cell_type": "markdown",
   "metadata": {},
   "source": [
    "### 4.6. Feature selection\n",
    "The datasets contain 409 features an more than 10000 rows. Training with such an amount of features can take a very long time for algorithms like SVM (expontential time complexity). The training process becomes much faster by pruning redundant features or by reducing dimensionality. "
   ]
  },
  {
   "cell_type": "markdown",
   "metadata": {},
   "source": [
    "#### 4.6.1. RFECV (Recursive Feature Elimination with Cross-Validation)\n",
    "RFE is a method that uses an estimator (in this case a classifier) that assigns weights to features (coefficients). The goals is to recursively select features by considering smaller and smaller sets of features. The least important features are pruned from the current set of features. The CV is used to make a selection of the best number of features.<br>\n",
    "The estimator that will be used is the Random Forest classifier."
   ]
  },
  {
   "cell_type": "code",
   "execution_count": null,
   "metadata": {},
   "outputs": [],
   "source": [
    "# Import RFECV algorithm\n",
    "from sklearn.feature_selection import RFECV"
   ]
  },
  {
   "cell_type": "code",
   "execution_count": null,
   "metadata": {},
   "outputs": [],
   "source": [
    "# Instantiate Random Forest classifier using the 'best' (loosely) hyperparameters\n",
    "rf_estimator = random_search.best_estimator_ "
   ]
  },
  {
   "cell_type": "code",
   "execution_count": null,
   "metadata": {},
   "outputs": [],
   "source": [
    "# Instantiate the RFECV algorithm\n",
    "f_selector = RFECV(estimator=rf_estimator,\n",
    "                   step=1,\n",
    "                   verbose=1,\n",
    "                   cv=3,\n",
    "                   n_jobs=-1)"
   ]
  },
  {
   "cell_type": "code",
   "execution_count": null,
   "metadata": {},
   "outputs": [],
   "source": [
    "# Fit the RFECV algorithm\n",
    "f_selector = f_selector.fit(X_train, y_train)"
   ]
  },
  {
   "cell_type": "code",
   "execution_count": null,
   "metadata": {},
   "outputs": [],
   "source": [
    "# Plot number of features vs. cross-validation scores\n",
    "plt.figure()\n",
    "plt.xlabel(\"Number of features selected\")\n",
    "plt.ylabel(\"Cross validation score (nr. of correct classifications)\")\n",
    "plt.plot(range(1, len(f_selector.grid_scores_) + 1), f_selector.grid_scores_)\n",
    "plt.show()"
   ]
  },
  {
   "cell_type": "code",
   "execution_count": null,
   "metadata": {},
   "outputs": [],
   "source": [
    "# Show best number of features\n",
    "print('Optimal number of features: %i' % (f_selector.n_features_))"
   ]
  },
  {
   "cell_type": "code",
   "execution_count": null,
   "metadata": {},
   "outputs": [],
   "source": [
    "# Create a dataframe that shows the ranking of features\n",
    "def create_ranking_df(ranking_list, columns):\n",
    "    ranking = {}\n",
    "    for i in range(len(ranking_list)):\n",
    "        rank = ranking_list[i]\n",
    "        col = columns[i]\n",
    "        if rank in ranking:\n",
    "            ranking[rank].append(col)\n",
    "        else:\n",
    "            ranking[rank] = [col]\n",
    "    ranking = pd.DataFrame(dict([(k, pd.Series(v)) for k, v in ranking.items()]))\n",
    "    return ranking.reindex(sorted(ranking.columns), axis=1)"
   ]
  },
  {
   "cell_type": "code",
   "execution_count": null,
   "metadata": {},
   "outputs": [],
   "source": [
    "# Show ranking\n",
    "ranking = create_ranking_df(f_selector.ranking_, X.columns)\n",
    "ranking"
   ]
  },
  {
   "cell_type": "code",
   "execution_count": 15,
   "metadata": {},
   "outputs": [],
   "source": [
    "# best_features = [False, False,  True, False, False, False, False,  True,  True,False,  True, False,  True, False,  True,  True,  True,  True,True,  True,  True,  True,  True,  True, False,  True,  True,True,  True,  True,  True,  True,  True,  True,  True, False,False, False, False, False,  True,  True,  True, False,  True,False,  True,  True, False,  True, False, False, False, False,False, False, False, False, False, False, False, False, False,False,  True,  True,  True,  True, False,  True, False, False,False, False, False, False, False, False, False, False, False,False, False, False, False, False, False, False,  True, False,False, False, False, False, False, False, False, False, False,False, False, False, False, False, False, False, False, False,False, False, False, False, False, False, False, False, False,False, False, False, False, False, False, False, False, False,False, False, False, False, False, False, False, False, False,False, False, False, False, False, False, False, False, False,False, False, False, False, False, False, False, False, False,False, False, False, False, False, False, False, False, False,False, False, False, False, False, False, False, False, False,False, False, False, False, False, False, False, False, False,False, False, False, False, False, False, False, False, False,False, False, False, False, False, False, False, False, False,False, False, False, False, False, False, False, False, False,False, False, False, False, False, False, False, False, False,False, False, False, False, False, False, False, False, False,False, False, False, False, False, False, False, False, False,False, False, False, False, False, False, False, False, False,False, False, False, False, False, False, False, False, False,False, False, False, False, False, False, False, False, False,False, False, False, False, False, False, False, False, False,False, False, False, False, False, False, False, False, False,False, False, False, False, False, False, False, False, False,False, False, False, False, False, False, False, False, False,False, False, False, False, False, False, False, False, False,False, False, False, False, False, False, False, False, False,False, False, False, False, False, False, False, False, False,False, False, False, False, False, False, False, False, False,False, False, False, False, False, False, False, False, False,False, False, False, False, False, False, False, False, False,False, False, False, False, False, False, False, False, False,False, False, False, False, False, False, False, False, False,False, False, False, False, False, False, False, False, False,False, False, False, False, False, False, False, False, False,False, False, False, False, False, False, False, False, False,False, False, False, False, False, False, False, False, False,False, False, False, False]"
   ]
  },
  {
   "cell_type": "markdown",
   "metadata": {},
   "source": [
    "### 4.7. Train different classifiers using selected features\n",
    "In this section the following classifiers will be fine tuned and trained to predict job satisfaction:\n",
    "+ Random Forest"
   ]
  },
  {
   "cell_type": "code",
   "execution_count": 74,
   "metadata": {},
   "outputs": [],
   "source": [
    "# Import GridSearchCV algorithm to select best combination of hyperparameters\n",
    "from sklearn.model_selection import GridSearchCV\n",
    "\n",
    "# Import leaning_curve and validation_curve to evaluate trained models\n",
    "from sklearn.model_selection import learning_curve\n",
    "from sklearn.model_selection import validation_curve\n",
    "\n",
    "from sklearn.metrics import accuracy_score, f1_score, precision_score, recall_score, confusion_matrix"
   ]
  },
  {
   "cell_type": "code",
   "execution_count": 44,
   "metadata": {},
   "outputs": [],
   "source": [
    "# Transform the training and test sets to only contain the previous selected features \n",
    "X_train_best = X_train[:,best_features]\n",
    "X_test_best = X_test[:,best_features]"
   ]
  },
  {
   "cell_type": "code",
   "execution_count": 71,
   "metadata": {},
   "outputs": [],
   "source": [
    "# Define a function for plotting learning curves:\n",
    "# Learning curves show the learning rate of the training and \n",
    "# cross-validation set over training examples (m).\n",
    "def plot_learning_curve(estimator, title, X, y):    \n",
    "    # Fit to get parameters for the learning curve\n",
    "    train_sizes, train_scores, test_scores = learning_curve(estimator,\n",
    "        X, y, cv=5, train_sizes=np.linspace(.1, 1.0, 5), scoring='accuracy', n_jobs=-1)\n",
    "    \n",
    "    # Get mean and standard deviation for training scores\n",
    "    train_scores_mean = np.mean(train_scores, axis=1)\n",
    "    train_scores_std = np.std(train_scores, axis=1)\n",
    "    \n",
    "    # Get mean and standard deviation for cross-validation scores\n",
    "    test_scores_mean = np.mean(test_scores, axis=1)\n",
    "    test_scores_std = np.std(test_scores, axis=1)\n",
    "    \n",
    "    # Setup chart\n",
    "    plt.figure()\n",
    "    plt.title(title)\n",
    "    plt.xlabel('Training examples')\n",
    "    plt.ylabel('Score (accuracy)')\n",
    "    plt.grid()\n",
    "    plt.fill_between(train_sizes, train_scores_mean - train_scores_std,\n",
    "                     train_scores_mean + train_scores_std, alpha=0.1, color='r')\n",
    "    plt.fill_between(train_sizes, test_scores_mean - test_scores_std,\n",
    "                     test_scores_mean + test_scores_std, alpha=0.1, color='b')\n",
    "    plt.plot(train_sizes, train_scores_mean, 'o-', color='r',\n",
    "             label='Training score')\n",
    "    plt.plot(train_sizes, test_scores_mean, 'o-', color='b',\n",
    "             label='Cross-validation score')\n",
    "    plt.legend(loc='best')\n",
    "\n",
    "    return plt"
   ]
  },
  {
   "cell_type": "code",
   "execution_count": 70,
   "metadata": {},
   "outputs": [],
   "source": [
    "# Define a function for plotting validation curves:\n",
    "# Validation curves show the learning rate of the training and \n",
    "# cross-validation set over a range of values of a defined hyperparameter.\n",
    "def plot_validation_curve(estimator, title, X, y, param_range, param_name):\n",
    "    # Fit to get parameters for the validation curve\n",
    "    train_scores, test_scores = validation_curve(estimator,\n",
    "        X, y, cv=5, param_name=param_name, param_range=param_range, scoring='accuracy', n_jobs=-1)\n",
    "    \n",
    "    # Get mean and standard deviation for training scores\n",
    "    train_scores_mean = np.mean(train_scores, axis=1)\n",
    "    train_scores_std = np.std(train_scores, axis=1)\n",
    "\n",
    "    # Get mean and standard deviation for cross-validation scores\n",
    "    test_scores_mean = np.mean(test_scores, axis=1)\n",
    "    test_scores_std = np.std(test_scores, axis=1)\n",
    "    \n",
    "    # Setup chart\n",
    "    plt.figure()\n",
    "    plt.title(title)\n",
    "    plt.xlabel(param_name)\n",
    "    plt.ylabel('Score (accuracy)')\n",
    "    plt.ylim(0.0, 1.1)\n",
    "    plt.semilogx(param_range, train_scores_mean, label='Training score',\n",
    "                 color='darkorange', lw=2)\n",
    "    plt.fill_between(param_range, train_scores_mean - train_scores_std,\n",
    "                     train_scores_mean + train_scores_std, alpha=0.2,\n",
    "                     color='darkorange', lw=2)\n",
    "    plt.semilogx(param_range, test_scores_mean, label='Cross-validation score',\n",
    "                 color='navy', lw=2)\n",
    "    plt.fill_between(param_range, test_scores_mean - test_scores_std,\n",
    "                     test_scores_mean + test_scores_std, alpha=0.2,\n",
    "                     color='navy', lw=2)\n",
    "    plt.legend(loc='best')\n",
    "    \n",
    "    return plt"
   ]
  },
  {
   "cell_type": "code",
   "execution_count": 92,
   "metadata": {},
   "outputs": [],
   "source": [
    "def show_metrics(X, y, classifier):\n",
    "    y_pred = classifier.predict(X)\n",
    "    print('Accuracy on test set: %0.3f' % (accuracy_score(y, y_pred)))\n",
    "    print('F1-score on test set: %0.3f' % (f1_score(y, y_pred, average='macro', labels=np.unique(y_pred))))\n",
    "    print('Precision on test set: %0.3f' % (precision_score(y, y_pred, average='macro', labels=np.unique(y_pred))))\n",
    "    print('Recall on test set: %0.3f' % (recall_score(y, y_pred, average='macro', labels=np.unique(y_pred))))"
   ]
  },
  {
   "cell_type": "markdown",
   "metadata": {},
   "source": [
    "#### 4.7.1 Random Forest\n",
    "The Random Forest classifier is used before for features selection. This time the Random Forest classifier will be used to predict the job satisfaction using the selected features.\n",
    "First, the default Random Forest classifier will trained on the training set and evaltuated.\n",
    "After the evaluation, a second Random Forest will be used to select the optimal hyperparameters.\n",
    "The Random Forest classifier containing the optimal hyperparamaters will be evaluated on high variance (overfitting) and high bias (underfitting).<br>\n",
    "The following hyperparameters will be optimized:\n",
    "+ n_estimators: The number of trees in the forest.\n",
    "+ max_depth: The maximum depth of the tree.\n",
    "+ min_samples_split: The minimum number of samples required to split an internal node.\n",
    "+ min_samples_leaf: The minimum number of samples required to be at a leaf node."
   ]
  },
  {
   "cell_type": "markdown",
   "metadata": {},
   "source": [
    "##### Default"
   ]
  },
  {
   "cell_type": "code",
   "execution_count": 48,
   "metadata": {},
   "outputs": [
    {
     "name": "stdout",
     "output_type": "stream",
     "text": [
      "Mean cross-validated score of random forest with default parameters: 0.368\n"
     ]
    }
   ],
   "source": [
    "rf_clf_default = RandomForestClassifier()\n",
    "rf_clf_default_score = np.sum(cross_val_score(rf_clf_default, X_train_best, y_train, cv=5)) / 5\n",
    "\n",
    "print('Mean cross-validated score of random forest with default parameters: %0.3f' % (rf_clf_default_score))"
   ]
  },
  {
   "cell_type": "code",
   "execution_count": 94,
   "metadata": {},
   "outputs": [
    {
     "name": "stdout",
     "output_type": "stream",
     "text": [
      "Accuracy on test set: 0.359\n",
      "F1-score on test set: 0.205\n",
      "Precision on test set: 0.224\n",
      "Recall on test set: 0.216\n"
     ]
    }
   ],
   "source": [
    "rf_clf_default.fit(X_train_best, y_train)\n",
    "show_metrics(X_test_best, y_test, rf_clf_default)"
   ]
  },
  {
   "cell_type": "code",
   "execution_count": 100,
   "metadata": {
    "scrolled": false
   },
   "outputs": [
    {
     "data": {
      "image/png": "[encoded data removed]",
      "text/plain": [
       "<Figure size 432x288 with 1 Axes>"
      ]
     },
     "metadata": {},
     "output_type": "display_data"
    }
   ],
   "source": [
    "plot_learning_curve(rf_clf_default, 'Learning Curves of Random Forest (default)', X_train_best, y_train)\n",
    "plt.show()"
   ]
  },
  {
   "cell_type": "markdown",
   "metadata": {},
   "source": [
    "##### Finetune"
   ]
  },
  {
   "cell_type": "code",
   "execution_count": 50,
   "metadata": {},
   "outputs": [],
   "source": [
    "n_estimators = [int(x) for x in np.linspace(start=100, stop=500, num=5)]\n",
    "max_depth = [int(x) for x in np.linspace(start=5, stop=50, num=10)]\n",
    "min_samples_split = [2, 5, 10]\n",
    "min_samples_leaf = [1, 2, 4]"
   ]
  },
  {
   "cell_type": "code",
   "execution_count": 51,
   "metadata": {},
   "outputs": [
    {
     "name": "stdout",
     "output_type": "stream",
     "text": [
      "n_estimators: [100, 200, 300, 400, 500]\n",
      "max_depth: [5, 10, 15, 20, 25, 30, 35, 40, 45, 50]\n",
      "min_samples_split: [2, 5, 10]\n",
      "min_samples_leaf: [1, 2, 4]\n"
     ]
    }
   ],
   "source": [
    "# Create the grid\n",
    "rf_grid = { 'n_estimators': n_estimators,\n",
    "           'max_depth': max_depth,\n",
    "           'min_samples_split': min_samples_split,\n",
    "           'min_samples_leaf': min_samples_leaf }\n",
    "# Print grid\n",
    "[print('%s: %s' % x) for x in rf_grid.items()];"
   ]
  },
  {
   "cell_type": "code",
   "execution_count": 53,
   "metadata": {},
   "outputs": [
    {
     "name": "stdout",
     "output_type": "stream",
     "text": [
      "Fitting 5 folds for each of 450 candidates, totalling 2250 fits\n"
     ]
    },
    {
     "name": "stderr",
     "output_type": "stream",
     "text": [
      "[Parallel(n_jobs=-1)]: Done  33 tasks      | elapsed:   14.8s\n",
      "[Parallel(n_jobs=-1)]: Done 154 tasks      | elapsed:  1.2min\n",
      "[Parallel(n_jobs=-1)]: Done 357 tasks      | elapsed:  3.5min\n",
      "[Parallel(n_jobs=-1)]: Done 640 tasks      | elapsed:  8.0min\n",
      "[Parallel(n_jobs=-1)]: Done 1005 tasks      | elapsed: 14.7min\n",
      "[Parallel(n_jobs=-1)]: Done 1450 tasks      | elapsed: 23.3min\n",
      "[Parallel(n_jobs=-1)]: Done 1977 tasks      | elapsed: 33.1min\n",
      "[Parallel(n_jobs=-1)]: Done 2250 out of 2250 | elapsed: 38.2min finished\n"
     ]
    }
   ],
   "source": [
    "rf_clf = RandomForestClassifier()\n",
    "rf_grid_search = GridSearchCV(estimator=rf_clf,\n",
    "                             param_grid=rf_grid,\n",
    "                             cv=5,\n",
    "                             verbose=2,\n",
    "                             n_jobs=-1)\n",
    "# Fit the random search model\n",
    "rf_grid_search = rf_grid_search.fit(X_train_best, y_train)"
   ]
  },
  {
   "cell_type": "code",
   "execution_count": 54,
   "metadata": {},
   "outputs": [
    {
     "name": "stdout",
     "output_type": "stream",
     "text": [
      "Mean cross-validated score of the best estimator: 0.431\n"
     ]
    },
    {
     "data": {
      "text/plain": [
       "{'max_depth': 45,\n",
       " 'min_samples_leaf': 2,\n",
       " 'min_samples_split': 2,\n",
       " 'n_estimators': 500}"
      ]
     },
     "execution_count": 54,
     "metadata": {},
     "output_type": "execute_result"
    }
   ],
   "source": [
    "# Print best cross-validated score\n",
    "print('Mean cross-validated score of the best estimator: %0.3f' % (rf_grid_search.best_score_))\n",
    "\n",
    "# Show best parameters\n",
    "best_rf_params = rf_grid_search.best_params_\n",
    "best_rf_params"
   ]
  },
  {
   "cell_type": "code",
   "execution_count": 56,
   "metadata": {},
   "outputs": [],
   "source": [
    "# Instantiate Random Forest classifier using the best hyperparameters\n",
    "rf_clf = rf_grid_search.best_estimator_ "
   ]
  },
  {
   "cell_type": "code",
   "execution_count": 57,
   "metadata": {},
   "outputs": [
    {
     "data": {
      "image/png": "[encoded data removed]",
      "text/plain": [
       "<Figure size 432x288 with 1 Axes>"
      ]
     },
     "metadata": {},
     "output_type": "display_data"
    }
   ],
   "source": [
    "plot_learning_curve(rf_clf, 'Learning Curves of Random Forest (default)', X_train_best, y_train)\n",
    "plt.show()"
   ]
  },
  {
   "cell_type": "markdown",
   "metadata": {},
   "source": [
    "##### Metrics"
   ]
  },
  {
   "cell_type": "code",
   "execution_count": 95,
   "metadata": {},
   "outputs": [
    {
     "name": "stdout",
     "output_type": "stream",
     "text": [
      "Accuracy on test set: 0.422\n",
      "F1-score on test set: 0.240\n",
      "Precision on test set: 0.331\n",
      "Recall on test set: 0.309\n"
     ]
    }
   ],
   "source": [
    "show_metrics(X_test_best, y_test, rf_clf)"
   ]
  },
  {
   "cell_type": "markdown",
   "metadata": {},
   "source": [
    "#### 4.7.2. Support Vector Machine (SVM)"
   ]
  },
  {
   "cell_type": "code",
   "execution_count": 96,
   "metadata": {},
   "outputs": [],
   "source": [
    "from sklearn.svm import SVC"
   ]
  },
  {
   "cell_type": "markdown",
   "metadata": {},
   "source": [
    "##### Default"
   ]
  },
  {
   "cell_type": "code",
   "execution_count": 97,
   "metadata": {},
   "outputs": [
    {
     "name": "stdout",
     "output_type": "stream",
     "text": [
      "Mean cross-validated score of SVM with default parameters: 0.404\n"
     ]
    }
   ],
   "source": [
    "svm_clf_default = SVC()\n",
    "svm_clf_default_score = np.sum(cross_val_score(svm_clf_default, X_train_best, y_train, cv=5)) / 5\n",
    "\n",
    "print('Mean cross-validated score of SVM with default parameters: %0.3f' % (svm_clf_default_score))"
   ]
  },
  {
   "cell_type": "code",
   "execution_count": 98,
   "metadata": {},
   "outputs": [
    {
     "name": "stdout",
     "output_type": "stream",
     "text": [
      "Accuracy on test set: 0.390\n",
      "F1-score on test set: 0.431\n",
      "Precision on test set: 0.333\n",
      "Recall on test set: 0.637\n"
     ]
    }
   ],
   "source": [
    "svm_clf_default.fit(X_train_best, y_train)\n",
    "show_metrics(X_test_best, y_test, svm_clf_default)"
   ]
  },
  {
   "cell_type": "code",
   "execution_count": 99,
   "metadata": {
    "scrolled": true
   },
   "outputs": [
    {
     "data": {
      "image/png": "[encoded data removed]",
      "text/plain": [
       "<Figure size 432x288 with 1 Axes>"
      ]
     },
     "metadata": {},
     "output_type": "display_data"
    }
   ],
   "source": [
    "plot_learning_curve(svm_clf_default, 'Learning Curves of SVM (default)', X_train_best, y_train)\n",
    "plt.show()"
   ]
  },
  {
   "cell_type": "markdown",
   "metadata": {},
   "source": [
    "##### Hyperparameter evaluation"
   ]
  },
  {
   "cell_type": "code",
   "execution_count": null,
   "metadata": {},
   "outputs": [],
   "source": [
    "C = [0.001, 0.01, 0.1, 1, 10]\n"
   ]
  },
  {
   "cell_type": "markdown",
   "metadata": {},
   "source": [
    "##### Finetune"
   ]
  },
  {
   "cell_type": "code",
   "execution_count": 103,
   "metadata": {},
   "outputs": [],
   "source": [
    "C = [0.001, 0.01, 0.1, 1, 10]\n",
    "gamma = [0.001, 0.01, 0.1, 1]\n",
    "kernel = ['linear', 'rbf']"
   ]
  },
  {
   "cell_type": "code",
   "execution_count": 105,
   "metadata": {},
   "outputs": [
    {
     "name": "stdout",
     "output_type": "stream",
     "text": [
      "C: [0.001, 0.01, 0.1, 1, 10]\n",
      "gamma: [0.001, 0.01, 0.1, 1]\n",
      "kernel: ['linear', 'rbf']\n"
     ]
    }
   ],
   "source": [
    "# Create the grid\n",
    "svm_grid = { 'C': C,\n",
    "           'gamma': gamma,\n",
    "           'kernel': kernel }\n",
    "# Print grid\n",
    "[print('%s: %s' % x) for x in svm_grid.items()];"
   ]
  },
  {
   "cell_type": "code",
   "execution_count": 107,
   "metadata": {},
   "outputs": [
    {
     "name": "stdout",
     "output_type": "stream",
     "text": [
      "Fitting 5 folds for each of 40 candidates, totalling 200 fits\n"
     ]
    },
    {
     "name": "stderr",
     "output_type": "stream",
     "text": [
      "[Parallel(n_jobs=-1)]: Done  33 tasks      | elapsed:   47.7s\n",
      "[Parallel(n_jobs=-1)]: Done 154 tasks      | elapsed:  4.0min\n",
      "[Parallel(n_jobs=-1)]: Done 200 out of 200 | elapsed:  5.7min finished\n"
     ]
    }
   ],
   "source": [
    "svm_clf = SVC()\n",
    "svm_grid_search = GridSearchCV(estimator=svm_clf,\n",
    "                             param_grid=svm_grid,\n",
    "                             cv=5,\n",
    "                             verbose=2,\n",
    "                             n_jobs=-1)\n",
    "# Fit the random search model\n",
    "svm_grid_search = svm_grid_search.fit(X_train_best, y_train)"
   ]
  },
  {
   "cell_type": "code",
   "execution_count": 108,
   "metadata": {},
   "outputs": [
    {
     "name": "stdout",
     "output_type": "stream",
     "text": [
      "Mean cross-validated score of the best estimator: 0.404\n"
     ]
    },
    {
     "data": {
      "text/plain": [
       "{'C': 0.1, 'gamma': 0.1, 'kernel': 'rbf'}"
      ]
     },
     "execution_count": 108,
     "metadata": {},
     "output_type": "execute_result"
    }
   ],
   "source": [
    "# Print best cross-validated score\n",
    "print('Mean cross-validated score of the best estimator: %0.3f' % (svm_grid_search.best_score_))\n",
    "\n",
    "# Show best parameters\n",
    "best_svm_params = svm_grid_search.best_params_\n",
    "best_svm_params"
   ]
  },
  {
   "cell_type": "code",
   "execution_count": 109,
   "metadata": {},
   "outputs": [],
   "source": [
    "# Instantiate SVM classifier using the best hyperparameters\n",
    "svm_clf = svm_grid_search.best_estimator_ "
   ]
  },
  {
   "cell_type": "code",
   "execution_count": 110,
   "metadata": {},
   "outputs": [
    {
     "data": {
      "image/png": "[encoded data removed]",
      "text/plain": [
       "<Figure size 432x288 with 1 Axes>"
      ]
     },
     "metadata": {},
     "output_type": "display_data"
    }
   ],
   "source": [
    "plot_learning_curve(svm_clf, 'Learning Curves of SVM (default)', X_train_best, y_train)\n",
    "plt.show()"
   ]
  },
  {
   "cell_type": "code",
   "execution_count": 111,
   "metadata": {},
   "outputs": [
    {
     "name": "stdout",
     "output_type": "stream",
     "text": [
      "Accuracy on test set: 0.390\n",
      "F1-score on test set: 0.431\n",
      "Precision on test set: 0.333\n",
      "Recall on test set: 0.637\n"
     ]
    }
   ],
   "source": [
    "show_metrics(X_test_best, y_test, svm_clf)"
   ]
  },
  {
   "cell_type": "code",
   "execution_count": null,
   "metadata": {},
   "outputs": [],
   "source": []
  }
 ],
 "metadata": {
  "kernelspec": {
   "display_name": "Python 3",
   "language": "python",
   "name": "python3"
  },
  "language_info": {
   "codemirror_mode": {
    "name": "ipython",
    "version": 3
   },
   "file_extension": ".py",
   "mimetype": "text/x-python",
   "name": "python",
   "nbconvert_exporter": "python",
   "pygments_lexer": "ipython3",
   "version": "3.6.5"
  }
 },
 "nbformat": 4,
 "nbformat_minor": 2
}

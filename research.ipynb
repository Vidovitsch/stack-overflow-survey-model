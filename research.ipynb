{
 "cells": [
  {
   "cell_type": "markdown",
   "metadata": {},
   "source": [
    "# Predicting Job Satisfaction of Software Developers\n",
    "In this research project a classification model will be created that tries to predict the Job Satisfaction of Software Developers using the survey results from the Stack Overflow survey of 2018."
   ]
  },
  {
   "cell_type": "markdown",
   "metadata": {},
   "source": [
    "## Describing the dataset\n",
    "[Stack Overflow](https://stackoverflow.com/) is a website where you can ask and answer software related questions. It is a platform where millions of programmers, software developers, software engineers, etc. meet every day to learn form each other. Stack Overflow itself is aware of the enormous popularity of their platform and for this reason they keep a annual survey to get general insight about the average software engineer in relation to his/her field of work.\n",
    "\n",
    "Every year the results of the survey will get published on their website (cleaned and in csv format). Multiple datasets (one for each year since 2015) are available for analysis. For this project the survey results of 2018 will be used exclusively. The main reason for this choice is recency and the completeness of the results. The 2018 survey results were filled in by around 100.000 software developers, most of which answered 129 different questions. These questions are about job satisfaction, salary, favourite programming languages, weekly exercise, company size, etc. This large variety of questions provides a source of interesting research opportunities.\n",
    "\n",
    "**Source of the dataset**<br />\n",
    "Stack Overflow Developer Survey 2018 (186 MB): https://www.kaggle.com/stackoverflow/stack-overflow-2018-developer-survey\n",
    "\n",
    "\n",
    "**Data description:**<br />\n",
    "The Stack Overflow survey results of 2018 has in total 98855 rows and 129 columns. Some of these columns consist of only numerical data, like: 'Salary' and 'ConvertedSalary'. All the other columns are categorical. The categorical columns are devidable over three types of columns:\n",
    "- Values denoted in text. E.g. 'Yes', 'No', 'United States', 'Employed part-time', etc.\n",
    "- Values denoted in ';' seperated lists. E.g. 'Python;Java;C#', 'Windows;Linux;, etc.\n",
    "- Values denoted in numbers. E.g. 1, 2, 3, 4, etc. (for rankings)\n",
    "\n",
    "Textual input can't be interpreted easily by the average Machine Learning algorithm. Therefore, preprocessing of the original dataset is needed, so it can be used for further analysis. A [notebook](./dataset_preprocessing.ipynb) is created that is dedicted to preprocessing the Stack Overflow survey dataset in the following ways:\n",
    "- Drop rows with missing values in the column 'JobSatisfaction'. The column 'JobSatisfaction' is the target value that will be used for analysis. It is not desirable to have missing values for a target feature, because the value NaN doesn't refer to valid classification value.\n",
    "- Drop unimportant columns. Some columns can be left out because they have no correlation with the target column 'JobSatisfaction', are redundant or have too many missing values (80%).\n",
    "- Preprocess values dentoed in ';' seperated lists. List values such as 'Python;Java;C#' can't be used as input for a Machine Learning algorithm. First, the value has to be numerical. Second, numerification of the ';' value as is will result a unique class for every unique list. It is instead needed to get a unique class for every language present in the list.\n",
    "- Encode text to numerical values. Text isn't easy to interpret for Machine Learning algorithms. To solve this problem all text-formatted values will be converted to numerical values.\n",
    "- (optional) Impute missing values. A lot of data is missing, this missing data can be imputed with statistical values (e.g. mean, mode, etc.). Both the imputed and not-imputed dataset will be used in the analysis. (The one that will perform better will be chosen)\n",
    "\n",
    "The above steps will result in a preprocessed data set with 69276 rows and 410 columns.<br />\n",
    "The data will be tranformed as follows:<br />\n",
    "\n",
    "| Student | Programming Language | Country        |\n",
    "|:-------:|:--------------------:|:--------------:|\n",
    "| Yes     | Python;Java;C#       | Kenya          |\n",
    "| No      | Python;C#            | United Kingdom |\n",
    "| Yes     | Java;C#              | United States  |\n",
    "\n",
    "| Student | Python | Java | C# | Country |\n",
    "|:-------:|:------:|:----:|:--:|:-------:|\n",
    "| 1       | 1      | 1    | 1  | 0       |\n",
    "| 0       | 1      | 0    | 1  | 1       |\n",
    "| 1       | 0      | 1    | 1  | 2       |"
   ]
  },
  {
   "cell_type": "markdown",
   "metadata": {},
   "source": [
    "## Research\n",
    "Research will be conducted on the job satisfaction of software developers. The dataset, as described above, will be used to create a classifaction model that predicts the job statisfaction of software developers. The following research question will be answered:\n",
    "\n",
    "**Can an accurate model be created, given the features denoted in the survey, to predict the job satisfaction of software developers?**\n",
    "\n",
    "The model will be seen as accurate if at least 90% of the predictions are the same as the target values (column 'JobSatisfaction'). On top of the research question, a initial hypothesis can be made:\n",
    "\n",
    "**Salary is the main influencor of job satisfaction, and is therefore responsible for a high accuracy classification model.**\n",
    "\n",
    "This hypothesis will be either approved or rejected accoring to the reseach results."
   ]
  },
  {
   "cell_type": "markdown",
   "metadata": {},
   "source": [
    "## Exploration\n",
    "Initial exploration of the data gives insight of the data itself and a better intuiting while conducting the research."
   ]
  },
  {
   "cell_type": "code",
   "execution_count": 1,
   "metadata": {},
   "outputs": [],
   "source": [
    "%matplotlib inline\n",
    "import pandas as pd\n",
    "import numpy as np\n",
    "import matplotlib.pyplot as plt\n",
    "import seaborn as sns"
   ]
  },
  {
   "cell_type": "markdown",
   "metadata": {},
   "source": [
    "#### Import the preprocessed dataset\n",
    "Only the not-imputed dataset will be imported for exploration. This is because the not-imputed dataset will yield more accurate visualization in contrast to the imputed dataset. "
   ]
  },
  {
   "cell_type": "code",
   "execution_count": 2,
   "metadata": {},
   "outputs": [],
   "source": [
    "# Import preprocessed not-imputed dataset\n",
    "so_survey = pd.read_csv('./dataset/so_survey_prepped.csv')\n",
    "\n",
    "# Import the mappings for decoding purposes\n",
    "so_mappings = pd.read_csv('./dataset/so_survey_mappings.csv')"
   ]
  },
  {
   "cell_type": "code",
   "execution_count": 3,
   "metadata": {},
   "outputs": [
    {
     "data": {
      "text/html": [
       "<div>\n",
       "<style scoped>\n",
       "    .dataframe tbody tr th:only-of-type {\n",
       "        vertical-align: middle;\n",
       "    }\n",
       "\n",
       "    .dataframe tbody tr th {\n",
       "        vertical-align: top;\n",
       "    }\n",
       "\n",
       "    .dataframe thead th {\n",
       "        text-align: right;\n",
       "    }\n",
       "</style>\n",
       "<table border=\"1\" class=\"dataframe\">\n",
       "  <thead>\n",
       "    <tr style=\"text-align: right;\">\n",
       "      <th></th>\n",
       "      <th>Hobby</th>\n",
       "      <th>OpenSource</th>\n",
       "      <th>Country</th>\n",
       "      <th>is_student</th>\n",
       "      <th>Employment</th>\n",
       "      <th>FormalEducation</th>\n",
       "      <th>UndergradMajor</th>\n",
       "      <th>CompanySize</th>\n",
       "      <th>YearsCoding</th>\n",
       "      <th>YearsCodingProf</th>\n",
       "      <th>...</th>\n",
       "      <th>Bisexual or Queer</th>\n",
       "      <th>Gay or Lesbian</th>\n",
       "      <th>Straight or heterosexual</th>\n",
       "      <th>Black or of African descent</th>\n",
       "      <th>East Asian</th>\n",
       "      <th>Hispanic or Latino/Latina</th>\n",
       "      <th>Middle Eastern</th>\n",
       "      <th>Native American, Pacific Islander, or Indigenous Australian</th>\n",
       "      <th>South Asian</th>\n",
       "      <th>White or of European descent</th>\n",
       "    </tr>\n",
       "  </thead>\n",
       "  <tbody>\n",
       "    <tr>\n",
       "      <th>0</th>\n",
       "      <td>0</td>\n",
       "      <td>0</td>\n",
       "      <td>0</td>\n",
       "      <td>0.0</td>\n",
       "      <td>0</td>\n",
       "      <td>0.0</td>\n",
       "      <td>0.0</td>\n",
       "      <td>0.0</td>\n",
       "      <td>0.0</td>\n",
       "      <td>0</td>\n",
       "      <td>...</td>\n",
       "      <td>0</td>\n",
       "      <td>0</td>\n",
       "      <td>1</td>\n",
       "      <td>1</td>\n",
       "      <td>0</td>\n",
       "      <td>0</td>\n",
       "      <td>0</td>\n",
       "      <td>0</td>\n",
       "      <td>0</td>\n",
       "      <td>0</td>\n",
       "    </tr>\n",
       "    <tr>\n",
       "      <th>1</th>\n",
       "      <td>0</td>\n",
       "      <td>1</td>\n",
       "      <td>1</td>\n",
       "      <td>0.0</td>\n",
       "      <td>1</td>\n",
       "      <td>0.0</td>\n",
       "      <td>1.0</td>\n",
       "      <td>1.0</td>\n",
       "      <td>1.0</td>\n",
       "      <td>1</td>\n",
       "      <td>...</td>\n",
       "      <td>0</td>\n",
       "      <td>0</td>\n",
       "      <td>1</td>\n",
       "      <td>0</td>\n",
       "      <td>0</td>\n",
       "      <td>0</td>\n",
       "      <td>0</td>\n",
       "      <td>0</td>\n",
       "      <td>0</td>\n",
       "      <td>1</td>\n",
       "    </tr>\n",
       "    <tr>\n",
       "      <th>2</th>\n",
       "      <td>0</td>\n",
       "      <td>1</td>\n",
       "      <td>2</td>\n",
       "      <td>0.0</td>\n",
       "      <td>1</td>\n",
       "      <td>1.0</td>\n",
       "      <td>2.0</td>\n",
       "      <td>0.0</td>\n",
       "      <td>2.0</td>\n",
       "      <td>2</td>\n",
       "      <td>...</td>\n",
       "      <td>0</td>\n",
       "      <td>0</td>\n",
       "      <td>0</td>\n",
       "      <td>0</td>\n",
       "      <td>0</td>\n",
       "      <td>0</td>\n",
       "      <td>0</td>\n",
       "      <td>0</td>\n",
       "      <td>0</td>\n",
       "      <td>0</td>\n",
       "    </tr>\n",
       "  </tbody>\n",
       "</table>\n",
       "<p>3 rows × 410 columns</p>\n",
       "</div>"
      ],
      "text/plain": [
       "   Hobby  OpenSource  Country  is_student  Employment  FormalEducation  \\\n",
       "0      0           0        0         0.0           0              0.0   \n",
       "1      0           1        1         0.0           1              0.0   \n",
       "2      0           1        2         0.0           1              1.0   \n",
       "\n",
       "   UndergradMajor  CompanySize  YearsCoding  YearsCodingProf  \\\n",
       "0             0.0          0.0          0.0                0   \n",
       "1             1.0          1.0          1.0                1   \n",
       "2             2.0          0.0          2.0                2   \n",
       "\n",
       "               ...               Bisexual or Queer  Gay or Lesbian  \\\n",
       "0              ...                               0               0   \n",
       "1              ...                               0               0   \n",
       "2              ...                               0               0   \n",
       "\n",
       "   Straight or heterosexual  Black or of African descent  East Asian  \\\n",
       "0                         1                            1           0   \n",
       "1                         1                            0           0   \n",
       "2                         0                            0           0   \n",
       "\n",
       "   Hispanic or Latino/Latina  Middle Eastern  \\\n",
       "0                          0               0   \n",
       "1                          0               0   \n",
       "2                          0               0   \n",
       "\n",
       "   Native American, Pacific Islander, or Indigenous Australian  South Asian  \\\n",
       "0                                                  0                      0   \n",
       "1                                                  0                      0   \n",
       "2                                                  0                      0   \n",
       "\n",
       "   White or of European descent  \n",
       "0                             0  \n",
       "1                             1  \n",
       "2                             0  \n",
       "\n",
       "[3 rows x 410 columns]"
      ]
     },
     "execution_count": 3,
     "metadata": {},
     "output_type": "execute_result"
    }
   ],
   "source": [
    "# Show first three entries of so_survey data frame\n",
    "so_survey.head(3)"
   ]
  },
  {
   "cell_type": "code",
   "execution_count": 4,
   "metadata": {},
   "outputs": [
    {
     "data": {
      "text/html": [
       "<div>\n",
       "<style scoped>\n",
       "    .dataframe tbody tr th:only-of-type {\n",
       "        vertical-align: middle;\n",
       "    }\n",
       "\n",
       "    .dataframe tbody tr th {\n",
       "        vertical-align: top;\n",
       "    }\n",
       "\n",
       "    .dataframe thead th {\n",
       "        text-align: right;\n",
       "    }\n",
       "</style>\n",
       "<table border=\"1\" class=\"dataframe\">\n",
       "  <thead>\n",
       "    <tr style=\"text-align: right;\">\n",
       "      <th></th>\n",
       "      <th>Hobby</th>\n",
       "      <th>OpenSource</th>\n",
       "      <th>Country</th>\n",
       "      <th>is_student</th>\n",
       "      <th>Employment</th>\n",
       "      <th>FormalEducation</th>\n",
       "      <th>UndergradMajor</th>\n",
       "      <th>CompanySize</th>\n",
       "      <th>YearsCoding</th>\n",
       "      <th>YearsCodingProf</th>\n",
       "      <th>...</th>\n",
       "      <th>HypotheticalTools4</th>\n",
       "      <th>HypotheticalTools5</th>\n",
       "      <th>WakeTime</th>\n",
       "      <th>HoursComputer</th>\n",
       "      <th>HoursOutside</th>\n",
       "      <th>SkipMeals</th>\n",
       "      <th>Exercise</th>\n",
       "      <th>EducationParents</th>\n",
       "      <th>Age</th>\n",
       "      <th>Dependents</th>\n",
       "    </tr>\n",
       "  </thead>\n",
       "  <tbody>\n",
       "    <tr>\n",
       "      <th>0</th>\n",
       "      <td>Yes</td>\n",
       "      <td>No</td>\n",
       "      <td>Kenya</td>\n",
       "      <td>No</td>\n",
       "      <td>Employed part-time</td>\n",
       "      <td>Bachelor’s degree (BA, BS, B.Eng., etc.)</td>\n",
       "      <td>Mathematics or statistics</td>\n",
       "      <td>20 to 99 employees</td>\n",
       "      <td>3-5 years</td>\n",
       "      <td>3-5 years</td>\n",
       "      <td>...</td>\n",
       "      <td>Extremely interested</td>\n",
       "      <td>Extremely interested</td>\n",
       "      <td>Between 5:00 - 6:00 AM</td>\n",
       "      <td>9 - 12 hours</td>\n",
       "      <td>1 - 2 hours</td>\n",
       "      <td>Never</td>\n",
       "      <td>3 - 4 times per week</td>\n",
       "      <td>Bachelor’s degree (BA, BS, B.Eng., etc.)</td>\n",
       "      <td>25 - 34 years old</td>\n",
       "      <td>Yes</td>\n",
       "    </tr>\n",
       "    <tr>\n",
       "      <th>1</th>\n",
       "      <td>No</td>\n",
       "      <td>Yes</td>\n",
       "      <td>United Kingdom</td>\n",
       "      <td>Yes, part-time</td>\n",
       "      <td>Employed full-time</td>\n",
       "      <td>Associate degree</td>\n",
       "      <td>A natural science (ex. biology, chemistry, phy...</td>\n",
       "      <td>10,000 or more employees</td>\n",
       "      <td>30 or more years</td>\n",
       "      <td>18-20 years</td>\n",
       "      <td>...</td>\n",
       "      <td>A little bit interested</td>\n",
       "      <td>A little bit interested</td>\n",
       "      <td>Between 6:01 - 7:00 AM</td>\n",
       "      <td>5 - 8 hours</td>\n",
       "      <td>30 - 59 minutes</td>\n",
       "      <td>3 - 4 times per week</td>\n",
       "      <td>Daily or almost every day</td>\n",
       "      <td>Some college/university study without earning ...</td>\n",
       "      <td>35 - 44 years old</td>\n",
       "      <td>No</td>\n",
       "    </tr>\n",
       "    <tr>\n",
       "      <th>2</th>\n",
       "      <td>NaN</td>\n",
       "      <td>NaN</td>\n",
       "      <td>United States</td>\n",
       "      <td>Yes, full-time</td>\n",
       "      <td>Independent contractor, freelancer, or self-em...</td>\n",
       "      <td>Some college/university study without earning ...</td>\n",
       "      <td>Computer science, computer engineering, or sof...</td>\n",
       "      <td>100 to 499 employees</td>\n",
       "      <td>24-26 years</td>\n",
       "      <td>6-8 years</td>\n",
       "      <td>...</td>\n",
       "      <td>Somewhat interested</td>\n",
       "      <td>Somewhat interested</td>\n",
       "      <td>Before 5:00 AM</td>\n",
       "      <td>Over 12 hours</td>\n",
       "      <td>Less than 30 minutes</td>\n",
       "      <td>1 - 2 times per week</td>\n",
       "      <td>I don't typically exercise</td>\n",
       "      <td>Secondary school (e.g. American high school, G...</td>\n",
       "      <td>18 - 24 years old</td>\n",
       "      <td>NaN</td>\n",
       "    </tr>\n",
       "  </tbody>\n",
       "</table>\n",
       "<p>3 rows × 51 columns</p>\n",
       "</div>"
      ],
      "text/plain": [
       "  Hobby OpenSource         Country      is_student  \\\n",
       "0   Yes         No           Kenya              No   \n",
       "1    No        Yes  United Kingdom  Yes, part-time   \n",
       "2   NaN        NaN   United States  Yes, full-time   \n",
       "\n",
       "                                          Employment  \\\n",
       "0                                 Employed part-time   \n",
       "1                                 Employed full-time   \n",
       "2  Independent contractor, freelancer, or self-em...   \n",
       "\n",
       "                                     FormalEducation  \\\n",
       "0           Bachelor’s degree (BA, BS, B.Eng., etc.)   \n",
       "1                                   Associate degree   \n",
       "2  Some college/university study without earning ...   \n",
       "\n",
       "                                      UndergradMajor  \\\n",
       "0                          Mathematics or statistics   \n",
       "1  A natural science (ex. biology, chemistry, phy...   \n",
       "2  Computer science, computer engineering, or sof...   \n",
       "\n",
       "                CompanySize       YearsCoding YearsCodingProf    ...      \\\n",
       "0        20 to 99 employees         3-5 years       3-5 years    ...       \n",
       "1  10,000 or more employees  30 or more years     18-20 years    ...       \n",
       "2      100 to 499 employees       24-26 years       6-8 years    ...       \n",
       "\n",
       "        HypotheticalTools4       HypotheticalTools5                WakeTime  \\\n",
       "0     Extremely interested     Extremely interested  Between 5:00 - 6:00 AM   \n",
       "1  A little bit interested  A little bit interested  Between 6:01 - 7:00 AM   \n",
       "2      Somewhat interested      Somewhat interested          Before 5:00 AM   \n",
       "\n",
       "   HoursComputer          HoursOutside             SkipMeals  \\\n",
       "0   9 - 12 hours           1 - 2 hours                 Never   \n",
       "1    5 - 8 hours       30 - 59 minutes  3 - 4 times per week   \n",
       "2  Over 12 hours  Less than 30 minutes  1 - 2 times per week   \n",
       "\n",
       "                     Exercise  \\\n",
       "0        3 - 4 times per week   \n",
       "1   Daily or almost every day   \n",
       "2  I don't typically exercise   \n",
       "\n",
       "                                    EducationParents                Age  \\\n",
       "0           Bachelor’s degree (BA, BS, B.Eng., etc.)  25 - 34 years old   \n",
       "1  Some college/university study without earning ...  35 - 44 years old   \n",
       "2  Secondary school (e.g. American high school, G...  18 - 24 years old   \n",
       "\n",
       "  Dependents  \n",
       "0        Yes  \n",
       "1         No  \n",
       "2        NaN  \n",
       "\n",
       "[3 rows x 51 columns]"
      ]
     },
     "execution_count": 4,
     "metadata": {},
     "output_type": "execute_result"
    }
   ],
   "source": [
    "# Show first three entries of so_mappings data frame\n",
    "so_mappings.head(3)"
   ]
  },
  {
   "cell_type": "markdown",
   "metadata": {},
   "source": [
    "#### Create decode  and encode function\n",
    "In advance, a generic decode and encode function will be created"
   ]
  },
  {
   "cell_type": "code",
   "execution_count": 5,
   "metadata": {},
   "outputs": [],
   "source": [
    "def decode_labels(labels, column_name, decoder=so_mappings):\n",
    "    \"\"\" Decodes encoded (preprocessed) labes using a decoder.\n",
    "    E.g. [0, 1, 0, 0] for column 'Hobby' => ['Yes', 'No', 'Yes', 'Yes']\n",
    "    \"\"\"\n",
    "    decoded_labels = so_mappings[column_name].values\n",
    "    return [decoded_labels[i] for i in labels]\n",
    "\n",
    "def encode_labels(labels, column_name, encoder=so_mappings):\n",
    "    \"\"\" Encoded decoded labes using an encoder.\n",
    "    E.g. ['Yes', 'No', 'Yes', 'Yes'] for column 'Hobby' => [0, 1, 0, 0]\n",
    "    \"\"\"\n",
    "    decoded_labels = so_mappings[column_name].values.tolist()\n",
    "    return [decoded_labels.index(l) for l in labels]"
   ]
  },
  {
   "cell_type": "markdown",
   "metadata": {},
   "source": [
    "#### Distribution of salary\n",
    "Lets see how salary is distributed."
   ]
  },
  {
   "cell_type": "code",
   "execution_count": 6,
   "metadata": {},
   "outputs": [],
   "source": [
    "# Make a data frame with column 'ConvertedSalary' and NaN values filtered out\n",
    "mask = pd.isnull(so_survey['ConvertedSalary']) == False\n",
    "salaries = so_survey['ConvertedSalary'][mask].values"
   ]
  },
  {
   "cell_type": "code",
   "execution_count": 7,
   "metadata": {
    "scrolled": true
   },
   "outputs": [
    {
     "data": {
      "image/png": "[encoded data removed]",
      "text/plain": [
       "<Figure size 1440x360 with 1 Axes>"
      ]
     },
     "metadata": {},
     "output_type": "display_data"
    }
   ],
   "source": [
    "# Plot salary distribution\n",
    "plt.figure(figsize=(20,5))\n",
    "kde = sns.kdeplot(salaries, shade=True)\n",
    "kde.set(title='Data distribution of salary', \n",
    "        xlabel='Salary', ylabel='Frequency');"
   ]
  },
  {
   "cell_type": "markdown",
   "metadata": {},
   "source": [
    "The distribution of salary appears the be very skewed. To reduce the skew, log transformation can be applied on the salaries. But before we can do this, the salaries with value zero needs to be filtered out (logarithm of zero is impossible)."
   ]
  },
  {
   "cell_type": "code",
   "execution_count": 8,
   "metadata": {},
   "outputs": [],
   "source": [
    "salaries = np.log(salaries[salaries != 0])"
   ]
  },
  {
   "cell_type": "code",
   "execution_count": null,
   "metadata": {
    "scrolled": true
   },
   "outputs": [],
   "source": [
    "# Plot salary distribution (log transformed)\n",
    "plt.figure(figsize=(20,5))\n",
    "kde = sns.kdeplot(salaries, shade=True)\n",
    "kde.set(title='Data distribution of salary (log transformed)', \n",
    "        xlabel='Salary (log transformed)', \n",
    "        ylabel='Frequency');"
   ]
  },
  {
   "cell_type": "markdown",
   "metadata": {},
   "source": [
    "The data distribution has now more the appearance of a gaussian distribution (bell curve shape). Although, the data is still skewed due to the outliers. If the many outliers will cause the classification model to perform badly, the outliers will be removed. This can be done, for example, by pruning the data by $x$ times the standard deviation of the salaries."
   ]
  },
  {
   "cell_type": "markdown",
   "metadata": {},
   "source": [
    "#### Average salary per job satisfaction class\n",
    "Job Satisfaction has 5 different classes: 'Extremely satisfied', 'Extremely dissatisfied', 'Moderately dissatified', 'Moderately satisfied', 'Slightly dissatisfied', 'Slightly satisfied' and 'Neither satisfied nor dissatisfied'. Lets see what the average salary is for each class."
   ]
  },
  {
   "cell_type": "code",
   "execution_count": null,
   "metadata": {},
   "outputs": [],
   "source": [
    "# Get only the data from people that work full-time (yields more accurate results)\n",
    "employed = so_survey[so_survey['Employment'] == encode_labels(['Employed full-time'], 'Employment')]\n",
    "\n",
    "# Remove the data with unknown salary and unknown job satisfaction\n",
    "employed = employed[pd.isnull(employed['ConvertedSalary']) == False]\n",
    "\n",
    "# Create a new data frame containing only the columns 'JobSatisfaction' and 'Salary (USD/Year)'\n",
    "employed = employed[['JobSatisfaction', 'ConvertedSalary']]\n",
    "\n",
    "# Group the data frame by 'JobSatisfaction' to get the average salary for each individual language\n",
    "employed['ConvertedSalary'] = employed['ConvertedSalary'].astype(float)\n",
    "employed = employed.groupby('JobSatisfaction').mean().sort_values(by=['ConvertedSalary'])\n",
    "employed['ConvertedSalary'] = employed['ConvertedSalary'].astype(int) # removes decimal points\n",
    "\n",
    "# Decode encoded labels to actual (text) values\n",
    "employed.index = decode_labels(employed.index, 'JobSatisfaction')"
   ]
  },
  {
   "cell_type": "code",
   "execution_count": null,
   "metadata": {},
   "outputs": [],
   "source": [
    "# Plot the data frame to show the job satisfaction with the average salary\n",
    "barh = employed.plot.barh(figsize=(20, 7), \n",
    "                           fontsize=15, \n",
    "                           title=\"Average salary in correlation with job satisfaction\",\n",
    "                           color='#C6DCEC')\n",
    "for i, v in enumerate(employed.values):\n",
    "    barh.text(v + .5, i - .1, '$' + str(v[0]), color='black')\n",
    "barh.set_ylabel(\"Job Satisfaction\")\n",
    "barh.get_xaxis().set_visible(False)"
   ]
  },
  {
   "cell_type": "markdown",
   "metadata": {},
   "source": [
    "There appears to be a correlation between job satisfaction and salary. The software developers in the 'extreme' classes get paid more than developers in the 'moderately' classes, which in turn get paid more than the developers in the 'slightly' classes. This could mean that salary has an influence on the severity (extremely, moderately, slightly) of the satisfaction rather than the ranking of the satisfaction."
   ]
  },
  {
   "cell_type": "markdown",
   "metadata": {},
   "source": [
    "## Analysis\n",
    "In this part, some classifiction algorithms will be trained to predict the job satisfaction of software developers. The performance of the resulting models will be compared."
   ]
  },
  {
   "cell_type": "code",
   "execution_count": null,
   "metadata": {},
   "outputs": [],
   "source": [
    "# Import necessary sklearn libraries\n",
    "from sklearn import preprocessing\n",
    "from sklearn.model_selection import train_test_split"
   ]
  },
  {
   "cell_type": "markdown",
   "metadata": {},
   "source": [
    "#### Setup datasets"
   ]
  },
  {
   "cell_type": "code",
   "execution_count": null,
   "metadata": {},
   "outputs": [],
   "source": [
    "# Import preprocessed imputed dataset\n",
    "so_survey_imputed= pd.read_csv('./dataset/so_survey_prepped_imputed.csv')\n",
    "\n",
    "# Drop NaN values from preprocessed not-imputed dataset\n",
    "so_survey.dropna(inplace=True)"
   ]
  },
  {
   "cell_type": "markdown",
   "metadata": {},
   "source": [
    "#### Setup the features and target values"
   ]
  },
  {
   "cell_type": "code",
   "execution_count": null,
   "metadata": {},
   "outputs": [],
   "source": [
    "# Set target (y) \n",
    "target = 'JobSatisfaction'\n",
    "y = so_survey[target]"
   ]
  },
  {
   "cell_type": "code",
   "execution_count": null,
   "metadata": {},
   "outputs": [],
   "source": [
    "# Set features (X)\n",
    "features = [x for x in so_survey.columns if x != target]\n",
    "X = so_survey[features]"
   ]
  },
  {
   "cell_type": "markdown",
   "metadata": {},
   "source": [
    "#### Perform feature scaling\n",
    "A min max scaler will be used to scale the features to values between 0 and 1, resulting in all features having values within the same range. This has some benefits:\n",
    "+ All features have the same 'weight'. This will help algorithms like SVM (with Gaussian kernel) to perform better.\n",
    "+ Speeds up gradient descent while training.\n",
    "+ Improves insight in coefficients. If all features have the same 'weight', resulting coefficient will describe the influence of feature on the target better. This is useful for feature selection."
   ]
  },
  {
   "cell_type": "code",
   "execution_count": null,
   "metadata": {},
   "outputs": [],
   "source": [
    "# Perform feature scaling with min max scaler\n",
    "scaler = preprocessing.MinMaxScaler(feature_range=(0, 1))\n",
    "X = scaler.fit_transform(X)"
   ]
  },
  {
   "cell_type": "markdown",
   "metadata": {},
   "source": [
    "#### Split into training and testing set\n",
    "The features and target values will be split into training and testing sets.\n",
    "The training set will contain 75% of the dataset (randomly selected rows)\n",
    "The testing set will therefore contain 25% of the dataset."
   ]
  },
  {
   "cell_type": "code",
   "execution_count": null,
   "metadata": {},
   "outputs": [],
   "source": [
    "X_train, X_test, y_train, y_test = train_test_split(X, y, test_size=0.25, random_state=1)"
   ]
  },
  {
   "cell_type": "markdown",
   "metadata": {},
   "source": [
    "### Random Forest"
   ]
  }
 ],
 "metadata": {
  "kernelspec": {
   "display_name": "Python 3",
   "language": "python",
   "name": "python3"
  },
  "language_info": {
   "codemirror_mode": {
    "name": "ipython",
    "version": 3
   },
   "file_extension": ".py",
   "mimetype": "text/x-python",
   "name": "python",
   "nbconvert_exporter": "python",
   "pygments_lexer": "ipython3",
   "version": "3.6.5"
  }
 },
 "nbformat": 4,
 "nbformat_minor": 2
}
